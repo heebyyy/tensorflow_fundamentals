{
  "nbformat": 4,
  "nbformat_minor": 0,
  "metadata": {
    "colab": {
      "provenance": []
    },
    "kernelspec": {
      "name": "python3",
      "display_name": "Python 3"
    },
    "language_info": {
      "name": "python"
    },
    "accelerator": "GPU",
    "gpuClass": "standard"
  },
  "cells": [
    {
      "cell_type": "markdown",
      "source": [
        "transfer learning is taking the patterns (also called weights) another model has learned from another problem and using them for our own problem.\n",
        "\n",
        "There are two main benefits to using transfer learning:\n",
        "\n",
        "- Can leverage an existing neural network architecture proven to work on problems similar to our own.\n",
        "- Can leverage a working neural network architecture which has already learned patterns on similar data to our own. This often results in achieving great results with less custom data."
      ],
      "metadata": {
        "id": "m9rUcep2qZKl"
      }
    },
    {
      "cell_type": "code",
      "execution_count": 1,
      "metadata": {
        "colab": {
          "base_uri": "https://localhost:8080/"
        },
        "id": "Urk220ElqFxm",
        "outputId": "9806f028-8598-4fb2-9f69-f9f22600c2af"
      },
      "outputs": [
        {
          "output_type": "stream",
          "name": "stdout",
          "text": [
            "Sat Feb 25 09:36:16 2023       \n",
            "+-----------------------------------------------------------------------------+\n",
            "| NVIDIA-SMI 525.85.12    Driver Version: 525.85.12    CUDA Version: 12.0     |\n",
            "|-------------------------------+----------------------+----------------------+\n",
            "| GPU  Name        Persistence-M| Bus-Id        Disp.A | Volatile Uncorr. ECC |\n",
            "| Fan  Temp  Perf  Pwr:Usage/Cap|         Memory-Usage | GPU-Util  Compute M. |\n",
            "|                               |                      |               MIG M. |\n",
            "|===============================+======================+======================|\n",
            "|   0  Tesla T4            Off  | 00000000:00:04.0 Off |                    0 |\n",
            "| N/A   51C    P0    25W /  70W |      0MiB / 15360MiB |      0%      Default |\n",
            "|                               |                      |                  N/A |\n",
            "+-------------------------------+----------------------+----------------------+\n",
            "                                                                               \n",
            "+-----------------------------------------------------------------------------+\n",
            "| Processes:                                                                  |\n",
            "|  GPU   GI   CI        PID   Type   Process name                  GPU Memory |\n",
            "|        ID   ID                                                   Usage      |\n",
            "|=============================================================================|\n",
            "|  No running processes found                                                 |\n",
            "+-----------------------------------------------------------------------------+\n"
          ]
        }
      ],
      "source": [
        "!nvidia-smi"
      ]
    },
    {
      "cell_type": "markdown",
      "source": [
        "## Download the data (10% of 10 food classes from food 101)"
      ],
      "metadata": {
        "id": "Kgn0rNcgqyiR"
      }
    },
    {
      "cell_type": "code",
      "source": [
        "# Get data (10% of labels)\n",
        "import zipfile\n",
        "\n",
        "# Download data\n",
        "!wget https://storage.googleapis.com/ztm_tf_course/food_vision/10_food_classes_10_percent.zip\n",
        "\n",
        "# Unzip the downloaded file\n",
        "zip_ref = zipfile.ZipFile(\"10_food_classes_10_percent.zip\", \"r\")\n",
        "zip_ref.extractall()\n",
        "zip_ref.close()"
      ],
      "metadata": {
        "colab": {
          "base_uri": "https://localhost:8080/"
        },
        "id": "bF3uRBWfqjWh",
        "outputId": "ff91623b-cd3d-4622-8548-0d74cb9cfc59"
      },
      "execution_count": 2,
      "outputs": [
        {
          "output_type": "stream",
          "name": "stdout",
          "text": [
            "--2023-02-25 09:36:16--  https://storage.googleapis.com/ztm_tf_course/food_vision/10_food_classes_10_percent.zip\n",
            "Resolving storage.googleapis.com (storage.googleapis.com)... 64.233.170.128, 74.125.200.128, 74.125.68.128, ...\n",
            "Connecting to storage.googleapis.com (storage.googleapis.com)|64.233.170.128|:443... connected.\n",
            "HTTP request sent, awaiting response... 200 OK\n",
            "Length: 168546183 (161M) [application/zip]\n",
            "Saving to: ‘10_food_classes_10_percent.zip’\n",
            "\n",
            "10_food_classes_10_ 100%[===================>] 160.74M  23.2MB/s    in 7.9s    \n",
            "\n",
            "2023-02-25 09:36:25 (20.3 MB/s) - ‘10_food_classes_10_percent.zip’ saved [168546183/168546183]\n",
            "\n"
          ]
        }
      ]
    },
    {
      "cell_type": "code",
      "source": [
        "import os \n",
        "\n",
        "for path, folders, filenames in os.walk('./10_food_classes_10_percent'):\n",
        "  print(f\"There are {len(folders)} folders and {len(filenames)} images in the path {path}\")"
      ],
      "metadata": {
        "colab": {
          "base_uri": "https://localhost:8080/"
        },
        "id": "x2t3Km1hrI18",
        "outputId": "fb922886-3e94-4977-dfb0-c3069ce42ace"
      },
      "execution_count": 3,
      "outputs": [
        {
          "output_type": "stream",
          "name": "stdout",
          "text": [
            "There are 2 folders and 0 images in the path ./10_food_classes_10_percent\n",
            "There are 10 folders and 0 images in the path ./10_food_classes_10_percent/train\n",
            "There are 0 folders and 75 images in the path ./10_food_classes_10_percent/train/steak\n",
            "There are 0 folders and 75 images in the path ./10_food_classes_10_percent/train/pizza\n",
            "There are 0 folders and 75 images in the path ./10_food_classes_10_percent/train/fried_rice\n",
            "There are 0 folders and 75 images in the path ./10_food_classes_10_percent/train/chicken_wings\n",
            "There are 0 folders and 75 images in the path ./10_food_classes_10_percent/train/sushi\n",
            "There are 0 folders and 75 images in the path ./10_food_classes_10_percent/train/grilled_salmon\n",
            "There are 0 folders and 75 images in the path ./10_food_classes_10_percent/train/ice_cream\n",
            "There are 0 folders and 75 images in the path ./10_food_classes_10_percent/train/chicken_curry\n",
            "There are 0 folders and 75 images in the path ./10_food_classes_10_percent/train/ramen\n",
            "There are 0 folders and 75 images in the path ./10_food_classes_10_percent/train/hamburger\n",
            "There are 10 folders and 0 images in the path ./10_food_classes_10_percent/test\n",
            "There are 0 folders and 250 images in the path ./10_food_classes_10_percent/test/steak\n",
            "There are 0 folders and 250 images in the path ./10_food_classes_10_percent/test/pizza\n",
            "There are 0 folders and 250 images in the path ./10_food_classes_10_percent/test/fried_rice\n",
            "There are 0 folders and 250 images in the path ./10_food_classes_10_percent/test/chicken_wings\n",
            "There are 0 folders and 250 images in the path ./10_food_classes_10_percent/test/sushi\n",
            "There are 0 folders and 250 images in the path ./10_food_classes_10_percent/test/grilled_salmon\n",
            "There are 0 folders and 250 images in the path ./10_food_classes_10_percent/test/ice_cream\n",
            "There are 0 folders and 250 images in the path ./10_food_classes_10_percent/test/chicken_curry\n",
            "There are 0 folders and 250 images in the path ./10_food_classes_10_percent/test/ramen\n",
            "There are 0 folders and 250 images in the path ./10_food_classes_10_percent/test/hamburger\n"
          ]
        }
      ]
    },
    {
      "cell_type": "code",
      "source": [
        "train_dir = '10_food_classes_10_percent/train'\n",
        "test_dir = '10_food_classes_10_percent/test'"
      ],
      "metadata": {
        "id": "plz3eh7zsmXw"
      },
      "execution_count": 4,
      "outputs": []
    },
    {
      "cell_type": "code",
      "source": [
        "import matplotlib.pyplot as plt\n",
        "import matplotlib.image as mpimg"
      ],
      "metadata": {
        "id": "pRNRmjVwrzyv"
      },
      "execution_count": 5,
      "outputs": []
    },
    {
      "cell_type": "code",
      "source": [
        "from matplotlib.transforms import BboxTransform\n",
        "from tensorflow.keras.preprocessing.image import ImageDataGenerator\n",
        "\n",
        "IMAGE_SHAPE = (224, 224)\n",
        "BATCH_SIZE = 32\n",
        "\n",
        "train_datagen = ImageDataGenerator(rescale = 1/255.)\n",
        "test_datagen = ImageDataGenerator(rescale=1/255.)\n",
        "\n",
        "train_data = train_datagen.flow_from_directory(train_dir,\n",
        "                                               target_size = IMAGE_SHAPE,\n",
        "                                               batch_size = BATCH_SIZE,\n",
        "                                               class_mode = 'categorical')\n",
        "\n",
        "test_data = test_datagen.flow_from_directory(test_dir,\n",
        "                                               target_size = IMAGE_SHAPE,\n",
        "                                               batch_size = BATCH_SIZE,\n",
        "                                               class_mode = 'categorical')\n"
      ],
      "metadata": {
        "colab": {
          "base_uri": "https://localhost:8080/"
        },
        "id": "Y-vooNilsihf",
        "outputId": "6c94453a-d1dc-4292-e910-78dc3a38a7d7"
      },
      "execution_count": 6,
      "outputs": [
        {
          "output_type": "stream",
          "name": "stdout",
          "text": [
            "Found 750 images belonging to 10 classes.\n",
            "Found 2500 images belonging to 10 classes.\n"
          ]
        }
      ]
    },
    {
      "cell_type": "markdown",
      "source": [
        "### Setting up callbacks\n",
        "\n",
        "Callbacks are extra functionality you can add to your models to be performed during or after training. Some of the most popular callbacks include:\n",
        "\n",
        "* Experiment tracking with TensorBoard - log the performance of multiple models and then view and compare these models in a visual way on TensorBoard (a dashboard for inspecting neural network parameters). Helpful to compare the results of different models on your data.\n",
        "* Model checkpointing - save your model as it trains so you can stop training if needed and come back to continue off where you left. Helpful if training takes a long time and can't be done in one sitting.\n",
        "* Early stopping - leave your model training for an arbitrary amount of time and have it stop training automatically when it ceases to improve. Helpful when you've got a large dataset and don't know how long training will take."
      ],
      "metadata": {
        "id": "V5Tf1lm6v6Vv"
      }
    },
    {
      "cell_type": "code",
      "source": [
        "import tensorflow as tf"
      ],
      "metadata": {
        "id": "C-SkreePttYS"
      },
      "execution_count": 7,
      "outputs": []
    },
    {
      "cell_type": "code",
      "source": [
        "import datetime\n",
        "def create_tensorboard_callback(dir_name, experiment_name):\n",
        "  log_dir = dir_name + '/' + experiment_name + '/' + datetime.datetime.now().strftime('%Y%m%d %H%M%S')\n",
        "  tensorbaord_callback = tf.keras.callbacks.TensorBoard(log_dir)\n",
        "  print(f'Saving tensorbaord logfiles to {log_dir}')\n",
        "  return tensorbaord_callback"
      ],
      "metadata": {
        "id": "Q6pDPy_uwvA6"
      },
      "execution_count": 8,
      "outputs": []
    },
    {
      "cell_type": "markdown",
      "source": [
        "### Creating models using tensorflow hub"
      ],
      "metadata": {
        "id": "ChEJz7rhyHVF"
      }
    },
    {
      "cell_type": "code",
      "source": [
        "import tensorflow as tf\n",
        "import tensorflow_hub as hub\n",
        "from tensorflow.keras import layers"
      ],
      "metadata": {
        "id": "VRA0IuHayDap"
      },
      "execution_count": 9,
      "outputs": []
    },
    {
      "cell_type": "code",
      "source": [
        "# Resnet 50 V2 feature vector\n",
        "resnet_url = \"https://tfhub.dev/google/imagenet/resnet_v2_50/feature_vector/4\"\n",
        "\n",
        "# Original: EfficientNetB0 feature vector (version 1)\n",
        "efficientnet_url = \"https://tfhub.dev/tensorflow/efficientnet/b0/feature-vector/1\"\n",
        "\n",
        "# # New: EfficientNetB0 feature vector (version 2)\n",
        "# efficientnet_url = \"https://tfhub.dev/google/imagenet/efficientnet_v2_imagenet1k_b0/feature_vector/2\""
      ],
      "metadata": {
        "id": "Qm85N7a5z4fw"
      },
      "execution_count": 10,
      "outputs": []
    },
    {
      "cell_type": "markdown",
      "source": [
        "## Create RESNET model"
      ],
      "metadata": {
        "id": "jXEWMj5H8u8G"
      }
    },
    {
      "cell_type": "code",
      "source": [
        "# a create model function that creates model from a url\n",
        "def create_model(model_url, num_classes = 10):\n",
        "  \"\"\"Takes a TensorFlow Hub URL and creates a Keras Sequential model with it.\n",
        "  \n",
        "  Args:\n",
        "    model_url (str): A TensorFlow Hub feature extraction URL.\n",
        "    num_classes (int): Number of output neurons in output layer,\n",
        "      should be equal to number of target classes, default 10.\n",
        "\n",
        "  Returns:\n",
        "    An uncompiled Keras Sequential model with model_url as feature\n",
        "    extractor layer and Dense output layer with num_classes outputs.\n",
        "  \"\"\"\n",
        "\n",
        "  # Download the pretrained model and save it as a keras layer\n",
        "  feature_extractor_layer = hub.KerasLayer(model_url, \n",
        "                                           trainable = False,\n",
        "                                           name = 'feature_extractor_layer',\n",
        "                                           input_shape = IMAGE_SHAPE+(3,))\n",
        "  \n",
        "  # Create aour usual keras sequential model\n",
        "  model = tf.keras.Sequential([\n",
        "      feature_extractor_layer,\n",
        "      layers.Dense(num_classes, activation = 'softmax', name = 'output_layer')\n",
        "  ])\n",
        "\n",
        "  return model"
      ],
      "metadata": {
        "id": "l0kNTIaA0nVo"
      },
      "execution_count": 11,
      "outputs": []
    },
    {
      "cell_type": "code",
      "source": [
        "# Create resnet model (tensorflow hub)\n",
        "\n",
        "resnet_model = create_model(resnet_url, train_data.num_classes)"
      ],
      "metadata": {
        "colab": {
          "base_uri": "https://localhost:8080/"
        },
        "id": "sBOKpwxV2BB5",
        "outputId": "37f6a42a-2f47-4f16-e43d-10dee9dec5d4"
      },
      "execution_count": 12,
      "outputs": [
        {
          "output_type": "stream",
          "name": "stderr",
          "text": [
            "WARNING:tensorflow:Please fix your imports. Module tensorflow.python.training.tracking.data_structures has been moved to tensorflow.python.trackable.data_structures. The old module will be deleted in version 2.11.\n",
            "WARNING:tensorflow:From /usr/local/lib/python3.8/dist-packages/tensorflow/python/autograph/pyct/static_analysis/liveness.py:83: Analyzer.lamba_check (from tensorflow.python.autograph.pyct.static_analysis.liveness) is deprecated and will be removed after 2023-09-23.\n",
            "Instructions for updating:\n",
            "Lambda fuctions will be no more assumed to be used in the statement where they are used, or at least in the same block. https://github.com/tensorflow/tensorflow/issues/56089\n"
          ]
        }
      ]
    },
    {
      "cell_type": "code",
      "source": [
        "resnet_model.summary()"
      ],
      "metadata": {
        "colab": {
          "base_uri": "https://localhost:8080/"
        },
        "id": "6JBt4w0g3LY2",
        "outputId": "db0706dd-5900-4667-fb4f-233877094318"
      },
      "execution_count": 13,
      "outputs": [
        {
          "output_type": "stream",
          "name": "stdout",
          "text": [
            "Model: \"sequential\"\n",
            "_________________________________________________________________\n",
            " Layer (type)                Output Shape              Param #   \n",
            "=================================================================\n",
            " feature_extractor_layer (Ke  (None, 2048)             23564800  \n",
            " rasLayer)                                                       \n",
            "                                                                 \n",
            " output_layer (Dense)        (None, 10)                20490     \n",
            "                                                                 \n",
            "=================================================================\n",
            "Total params: 23,585,290\n",
            "Trainable params: 20,490\n",
            "Non-trainable params: 23,564,800\n",
            "_________________________________________________________________\n"
          ]
        }
      ]
    },
    {
      "cell_type": "code",
      "source": [
        "resnet_model.compile(loss = 'categorical_crossentropy',\n",
        "                     optimizer=tf.keras.optimizers.Adam(),\n",
        "                     metrics = ['accuracy'])"
      ],
      "metadata": {
        "id": "hIvQeVL23Ly7"
      },
      "execution_count": 14,
      "outputs": []
    },
    {
      "cell_type": "code",
      "source": [
        "!mkdir tensorboard"
      ],
      "metadata": {
        "id": "Vijk7OmU52U6"
      },
      "execution_count": 15,
      "outputs": []
    },
    {
      "cell_type": "code",
      "source": [
        "resnet_model_history_1 = resnet_model.fit(train_data, epochs = 5,\n",
        "                                         steps_per_epoch = len(train_data), \n",
        "                                         validation_data = test_data, validation_steps = len(test_data), \n",
        "                                          callbacks = [create_tensorboard_callback(dir_name = 'tensorboard', experiment_name = 'resnet_model_1')])"
      ],
      "metadata": {
        "colab": {
          "base_uri": "https://localhost:8080/"
        },
        "id": "UjXiN7Zw4Ewk",
        "outputId": "1fd0b04c-ef2e-44a6-fc88-3a4695ff82f3"
      },
      "execution_count": 33,
      "outputs": [
        {
          "output_type": "stream",
          "name": "stdout",
          "text": [
            "Saving tensorbaord logfiles to tensorboard/resnet_model_1/20230225 101855\n",
            "Epoch 1/5\n",
            "24/24 [==============================] - 17s 717ms/step - loss: 0.3072 - accuracy: 0.9480 - val_loss: 0.6609 - val_accuracy: 0.7776\n",
            "Epoch 2/5\n",
            "24/24 [==============================] - 17s 724ms/step - loss: 0.2534 - accuracy: 0.9640 - val_loss: 0.6415 - val_accuracy: 0.7832\n",
            "Epoch 3/5\n",
            "24/24 [==============================] - 16s 696ms/step - loss: 0.2115 - accuracy: 0.9760 - val_loss: 0.6282 - val_accuracy: 0.7904\n",
            "Epoch 4/5\n",
            "24/24 [==============================] - 16s 688ms/step - loss: 0.1845 - accuracy: 0.9827 - val_loss: 0.6277 - val_accuracy: 0.7868\n",
            "Epoch 5/5\n",
            "24/24 [==============================] - 25s 1s/step - loss: 0.1563 - accuracy: 0.9907 - val_loss: 0.6197 - val_accuracy: 0.7888\n"
          ]
        }
      ]
    },
    {
      "cell_type": "code",
      "source": [
        "# If you wanted to, you could really turn this into a helper function to load in with a helper.py script...\n",
        "import matplotlib.pyplot as plt\n",
        "\n",
        "# Plot the validation and training data separately\n",
        "def plot_loss_curves(history):\n",
        "  \"\"\"\n",
        "  Returns separate loss curves for training and validation metrics.\n",
        "  \"\"\" \n",
        "  loss = history.history['loss']\n",
        "  val_loss = history.history['val_loss']\n",
        "\n",
        "  accuracy = history.history['accuracy']\n",
        "  val_accuracy = history.history['val_accuracy']\n",
        "\n",
        "  epochs = range(len(history.history['loss']))\n",
        "\n",
        "  # Plot loss\n",
        "  plt.plot(epochs, loss, label='training_loss')\n",
        "  plt.plot(epochs, val_loss, label='val_loss')\n",
        "  plt.title('Loss')\n",
        "  plt.xlabel('Epochs')\n",
        "  plt.legend()\n",
        "\n",
        "  # Plot accuracy\n",
        "  plt.figure()\n",
        "  plt.plot(epochs, accuracy, label='training_accuracy')\n",
        "  plt.plot(epochs, val_accuracy, label='val_accuracy')\n",
        "  plt.title('Accuracy')\n",
        "  plt.xlabel('Epochs')\n",
        "  plt.legend();"
      ],
      "metadata": {
        "id": "-1Gm26Mh45r5"
      },
      "execution_count": 34,
      "outputs": []
    },
    {
      "cell_type": "code",
      "source": [
        "plot_loss_curves(resnet_model_history_1)"
      ],
      "metadata": {
        "colab": {
          "base_uri": "https://localhost:8080/",
          "height": 573
        },
        "id": "nBaxpcHQ8Rgg",
        "outputId": "93e4cd65-b3cf-4f45-fe5c-1417f381f366"
      },
      "execution_count": 35,
      "outputs": [
        {
          "output_type": "display_data",
          "data": {
            "text/plain": [
              "<Figure size 432x288 with 1 Axes>"
            ],
            "image/png": "[encoded data removed]"
          },
          "metadata": {
            "needs_background": "light"
          }
        },
        {
          "output_type": "display_data",
          "data": {
            "text/plain": [
              "<Figure size 432x288 with 1 Axes>"
            ],
            "image/png": "[encoded data removed]"
          },
          "metadata": {
            "needs_background": "light"
          }
        }
      ]
    },
    {
      "cell_type": "markdown",
      "source": [
        "## Create EfficientNet"
      ],
      "metadata": {
        "id": "RwtDxihC8y--"
      }
    },
    {
      "cell_type": "code",
      "source": [
        "eff_net = create_model(model_url = efficientnet_url, num_classes= train_data.num_classes)\n",
        "\n",
        "eff_net.compile(loss = 'categorical_crossentropy',\n",
        "                optimizer = tf.keras.optimizers.Adam(),\n",
        "                metrics = ['accuracy'])\n",
        "\n",
        "history_eff_net = eff_net.fit(train_data, epochs = 5,\n",
        "                              steps_per_epoch = len(train_data),\n",
        "                              validation_data = test_data, \n",
        "                              validation_steps = len(test_data),\n",
        "                              callbacks = [create_tensorboard_callback(dir_name = 'tensorboard', experiment_name = 'efficient_net')])"
      ],
      "metadata": {
        "colab": {
          "base_uri": "https://localhost:8080/"
        },
        "id": "aTC4Pef38f2w",
        "outputId": "7ec0aa4e-7e9c-44af-f29c-518d30c7807a"
      },
      "execution_count": 36,
      "outputs": [
        {
          "output_type": "stream",
          "name": "stdout",
          "text": [
            "Saving tensorbaord logfiles to tensorboard/efficient_net/20230225 102039\n",
            "Epoch 1/5\n",
            "24/24 [==============================] - 36s 1s/step - loss: 1.8196 - accuracy: 0.4373 - val_loss: 1.3008 - val_accuracy: 0.7236\n",
            "Epoch 2/5\n",
            "24/24 [==============================] - 25s 1s/step - loss: 1.0564 - accuracy: 0.7533 - val_loss: 0.8717 - val_accuracy: 0.8068\n",
            "Epoch 3/5\n",
            "24/24 [==============================] - 16s 671ms/step - loss: 0.7514 - accuracy: 0.8400 - val_loss: 0.6999 - val_accuracy: 0.8500\n",
            "Epoch 4/5\n",
            "24/24 [==============================] - 15s 653ms/step - loss: 0.6030 - accuracy: 0.8693 - val_loss: 0.6120 - val_accuracy: 0.8608\n",
            "Epoch 5/5\n",
            "24/24 [==============================] - 24s 1s/step - loss: 0.5114 - accuracy: 0.8920 - val_loss: 0.5560 - val_accuracy: 0.8668\n"
          ]
        }
      ]
    },
    {
      "cell_type": "code",
      "source": [
        "eff_net.summary()"
      ],
      "metadata": {
        "colab": {
          "base_uri": "https://localhost:8080/"
        },
        "id": "unRC9j2Q_Wn2",
        "outputId": "3a9dfee6-54dc-4ef3-cc61-de3eea201159"
      },
      "execution_count": 37,
      "outputs": [
        {
          "output_type": "stream",
          "name": "stdout",
          "text": [
            "Model: \"sequential_6\"\n",
            "_________________________________________________________________\n",
            " Layer (type)                Output Shape              Param #   \n",
            "=================================================================\n",
            " feature_extractor_layer (Ke  (None, 1280)             4049564   \n",
            " rasLayer)                                                       \n",
            "                                                                 \n",
            " output_layer (Dense)        (None, 10)                12810     \n",
            "                                                                 \n",
            "=================================================================\n",
            "Total params: 4,062,374\n",
            "Trainable params: 12,810\n",
            "Non-trainable params: 4,049,564\n",
            "_________________________________________________________________\n"
          ]
        }
      ]
    },
    {
      "cell_type": "code",
      "source": [
        "plot_loss_curves(history_eff_net)"
      ],
      "metadata": {
        "colab": {
          "base_uri": "https://localhost:8080/",
          "height": 573
        },
        "id": "3a3t5XXT-J8-",
        "outputId": "cef0b635-30ca-4b06-cb15-d9668c1b48ca"
      },
      "execution_count": 38,
      "outputs": [
        {
          "output_type": "display_data",
          "data": {
            "text/plain": [
              "<Figure size 432x288 with 1 Axes>"
            ],
            "image/png": "[encoded data removed]"
          },
          "metadata": {
            "needs_background": "light"
          }
        },
        {
          "output_type": "display_data",
          "data": {
            "text/plain": [
              "<Figure size 432x288 with 1 Axes>"
            ],
            "image/png": "[encoded data removed]"
          },
          "metadata": {
            "needs_background": "light"
          }
        }
      ]
    },
    {
      "cell_type": "markdown",
      "source": [
        "## Comparing models using TensorBoard"
      ],
      "metadata": {
        "id": "5oD8XNuZGPrT"
      }
    },
    {
      "cell_type": "code",
      "source": [
        "!tensorboard dev upload --logdir ./tensorboard/ \\\n",
        "  --name \"EfficientNetB0 vs. ResNet50V2\" --description \"Comparing two different TF Hub feature extraction models architectures using 10% of training images\"  --one_shot"
      ],
      "metadata": {
        "colab": {
          "base_uri": "https://localhost:8080/"
        },
        "id": "8Q2yB7QTANom",
        "outputId": "e4d39d47-c722-4ea5-ade0-6c092bfe378c"
      },
      "execution_count": 41,
      "outputs": [
        {
          "output_type": "stream",
          "name": "stdout",
          "text": [
            "2023-02-25 10:25:43.088350: W tensorflow/compiler/xla/stream_executor/platform/default/dso_loader.cc:64] Could not load dynamic library 'libnvinfer.so.7'; dlerror: libnvinfer.so.7: cannot open shared object file: No such file or directory; LD_LIBRARY_PATH: /usr/lib64-nvidia\n",
            "2023-02-25 10:25:43.088449: W tensorflow/compiler/xla/stream_executor/platform/default/dso_loader.cc:64] Could not load dynamic library 'libnvinfer_plugin.so.7'; dlerror: libnvinfer_plugin.so.7: cannot open shared object file: No such file or directory; LD_LIBRARY_PATH: /usr/lib64-nvidia\n",
            "2023-02-25 10:25:43.088468: W tensorflow/compiler/tf2tensorrt/utils/py_utils.cc:38] TF-TRT Warning: Cannot dlopen some TensorRT libraries. If you would like to use Nvidia GPU with TensorRT, please make sure the missing libraries mentioned above are installed properly.\n",
            "\n",
            "***** TensorBoard Uploader *****\n",
            "\n",
            "This will upload your TensorBoard logs to https://tensorboard.dev/ from\n",
            "the following directory:\n",
            "\n",
            "./tensorboard/\n",
            "\n",
            "This TensorBoard will be visible to everyone. Do not upload sensitive\n",
            "data.\n",
            "\n",
            "Your use of this service is subject to Google's Terms of Service\n",
            "<https://policies.google.com/terms> and Privacy Policy\n",
            "<https://policies.google.com/privacy>, and TensorBoard.dev's Terms of Service\n",
            "<https://tensorboard.dev/policy/terms/>.\n",
            "\n",
            "This notice will not be shown again while you are logged into the uploader.\n",
            "To log out, run `tensorboard dev auth revoke`.\n",
            "\n",
            "Continue? (yes/NO) yes\n",
            "\n",
            "To sign in with the TensorBoard uploader:\n",
            "\n",
            "1. On your computer or phone, visit:\n",
            "\n",
            "   https://www.google.com/device\n",
            "\n",
            "2. Sign in with your Google account, then enter:\n",
            "\n",
            "   TJRP-GSQZ\n",
            "\n",
            "\n",
            "\n",
            "New experiment created. View your TensorBoard at: https://tensorboard.dev/experiment/7sRVo06RTki23dn2Xq8oZA/\n",
            "\n",
            "\u001b[1m[2023-02-25T10:27:27]\u001b[0m Started scanning logdir.\n",
            "\u001b[1m[2023-02-25T10:27:33]\u001b[0m Total uploaded: 60 scalars, 0 tensors, 2 binary objects (5.7 MB)\n",
            "\u001b[1m[2023-02-25T10:27:33]\u001b[0m Done scanning logdir.\n",
            "\n",
            "\n",
            "Done. View your TensorBoard at https://tensorboard.dev/experiment/7sRVo06RTki23dn2Xq8oZA/\n"
          ]
        }
      ]
    },
    {
      "cell_type": "markdown",
      "source": [
        "our tensorboard experiments are uploaded publicly <a href=https://tensorboard.dev/experiment/7sRVo06RTki23dn2Xq8oZA/ target=blank>here</a>"
      ],
      "metadata": {
        "id": "ZAQMeLiCHg1N"
      }
    },
    {
      "cell_type": "code",
      "source": [
        "# Check out experiments\n",
        "!tensorboard dev list"
      ],
      "metadata": {
        "colab": {
          "base_uri": "https://localhost:8080/"
        },
        "id": "5jFsM6f_Gq7V",
        "outputId": "eb1c1ead-a110-445d-a6f9-0fdf94b4e18b"
      },
      "execution_count": 42,
      "outputs": [
        {
          "output_type": "stream",
          "name": "stdout",
          "text": [
            "2023-02-25 10:32:15.397932: W tensorflow/compiler/xla/stream_executor/platform/default/dso_loader.cc:64] Could not load dynamic library 'libnvinfer.so.7'; dlerror: libnvinfer.so.7: cannot open shared object file: No such file or directory; LD_LIBRARY_PATH: /usr/lib64-nvidia\n",
            "2023-02-25 10:32:15.398030: W tensorflow/compiler/xla/stream_executor/platform/default/dso_loader.cc:64] Could not load dynamic library 'libnvinfer_plugin.so.7'; dlerror: libnvinfer_plugin.so.7: cannot open shared object file: No such file or directory; LD_LIBRARY_PATH: /usr/lib64-nvidia\n",
            "2023-02-25 10:32:15.398048: W tensorflow/compiler/tf2tensorrt/utils/py_utils.cc:38] TF-TRT Warning: Cannot dlopen some TensorRT libraries. If you would like to use Nvidia GPU with TensorRT, please make sure the missing libraries mentioned above are installed properly.\n",
            "https://tensorboard.dev/experiment/7sRVo06RTki23dn2Xq8oZA/\n",
            "\tName                 EfficientNetB0 vs. ResNet50V2\n",
            "\tDescription          Comparing two different TF Hub feature extraction models architectures using 10% of training images\n",
            "\tId                   7sRVo06RTki23dn2Xq8oZA\n",
            "\tCreated              2023-02-25 10:27:27 (4 minutes ago)\n",
            "\tUpdated              2023-02-25 10:27:33 (4 minutes ago)\n",
            "\tRuns                 4\n",
            "\tTags                 5\n",
            "\tScalars              60\n",
            "\tTensor bytes         0\n",
            "\tBinary object bytes  5930787\n",
            "Total: 1 experiment(s)\n"
          ]
        }
      ]
    },
    {
      "cell_type": "code",
      "source": [
        "# Delete an experiment\n",
        "# !tensorboard dev delete --experiment_id [experiment_id]"
      ],
      "metadata": {
        "id": "KbbgEDduIVqT"
      },
      "execution_count": 43,
      "outputs": []
    },
    {
      "cell_type": "code",
      "source": [],
      "metadata": {
        "id": "hKUisp1fIjTu"
      },
      "execution_count": null,
      "outputs": []
    }
  ]
}