{
 "cells": [
  {
   "cell_type": "markdown",
   "id": "560d4243",
   "metadata": {},
   "source": [
    "# Introduction to regression with neural network using tensorflow\n",
    "\n",
    "There are many definitions for a regression problem but in our case, we're going to simplify it to be: predicting a number.\n",
    "\n",
    "For example, you might want to:\n",
    "\n",
    "* Predict the selling price of houses given information about them (such as number of rooms, size, number of bathrooms).\n",
    "* Predict the coordinates of a bounding box of an item in an image.\n",
    "* Predict the cost of medical insurance for an individual given their demographics (age, sex, gender, race).\n",
    "\n",
    "In this notebook, we're going to set the foundations for how you can take a sample of inputs (this is your data), build a neural network to discover patterns in those inputs and then make a prediction (in the form of a number) based on those inputs."
   ]
  },
  {
   "cell_type": "markdown",
   "id": "1c607c35",
   "metadata": {},
   "source": [
    "## What we're going to cover\n",
    "Specifically, we're going to go through doing the following with TensorFlow:\n",
    "\n",
    "* Architecture of a regression model\n",
    "* Input shapes and output shapes\n",
    "  * X: features/data (inputs)\n",
    "  * y: labels (outputs)\n",
    "* Creating custom data to view and fit\n",
    "* Steps in modelling\n",
    "  * Creating a model\n",
    "  * Compiling a model\n",
    "    * Defining a loss function\n",
    "    * Setting up an optimizer\n",
    "    * Creating evaluation metrics\n",
    "  * Fitting a model (getting it to find patterns in our data)\n",
    "* Evaluating a model\n",
    "  * Visualizng the model (\"visualize, visualize, visualize\")\n",
    "  * Looking at training curves\n",
    "  * Compare predictions to ground truth (using our evaluation metrics)\n",
    "* Saving a model (so we can use it later)\n",
    "* Loading a model"
   ]
  },
  {
   "cell_type": "code",
   "execution_count": 1,
   "id": "299ecb9d",
   "metadata": {},
   "outputs": [
    {
     "name": "stdout",
     "output_type": "stream",
     "text": [
      "2.11.0\n"
     ]
    }
   ],
   "source": [
    "import tensorflow as tf\n",
    "print(tf.__version__)"
   ]
  },
  {
   "cell_type": "markdown",
   "id": "d8bb9f7f",
   "metadata": {},
   "source": [
    "## Creating data view and fit"
   ]
  },
  {
   "cell_type": "code",
   "execution_count": 2,
   "id": "d543913f",
   "metadata": {},
   "outputs": [],
   "source": [
    "import numpy as np \n",
    "import matplotlib.pyplot as plt"
   ]
  },
  {
   "cell_type": "code",
   "execution_count": 3,
   "id": "52839308",
   "metadata": {},
   "outputs": [
    {
     "data": {
      "image/png": "[encoded data removed]",
      "text/plain": [
       "<Figure size 640x480 with 1 Axes>"
      ]
     },
     "metadata": {},
     "output_type": "display_data"
    }
   ],
   "source": [
    "# Create features\n",
    "X = np.array([-7.0, -4.0, -1.0, 2.0, 5.0, 8.0, 11.0, 14.0])\n",
    "\n",
    "# Create labels\n",
    "y = np.array([3.0, 6.0, 9.0, 12.0, 15.0, 18.0, 21.0, 24.0])\n",
    "\n",
    "# Visualize it\n",
    "plt.scatter(X, y);"
   ]
  },
  {
   "cell_type": "markdown",
   "id": "f2d0e0cd",
   "metadata": {},
   "source": [
    "## Input and output shapes"
   ]
  },
  {
   "cell_type": "code",
   "execution_count": 4,
   "id": "7a351190",
   "metadata": {},
   "outputs": [
    {
     "data": {
      "text/plain": [
       "(<tf.Tensor: shape=(3,), dtype=string, numpy=array([b'bedroom', b'bathroom', b'garage'], dtype=object)>,\n",
       " <tf.Tensor: shape=(1,), dtype=int32, numpy=array([939700])>)"
      ]
     },
     "execution_count": 4,
     "metadata": {},
     "output_type": "execute_result"
    }
   ],
   "source": [
    "# Example input and output shapes of a regresson model\n",
    "house_info = tf.constant([\"bedroom\", \"bathroom\", \"garage\"])\n",
    "house_price = tf.constant([939700])\n",
    "house_info, house_price"
   ]
  },
  {
   "cell_type": "code",
   "execution_count": 5,
   "id": "6d815f8d",
   "metadata": {},
   "outputs": [
    {
     "data": {
      "text/plain": [
       "TensorShape([3])"
      ]
     },
     "execution_count": 5,
     "metadata": {},
     "output_type": "execute_result"
    }
   ],
   "source": [
    "house_info.shape"
   ]
  },
  {
   "cell_type": "markdown",
   "id": "a2afe53d",
   "metadata": {},
   "source": [
    "## Steps in modelling with TensorFlow\n",
    "\n",
    "In TensorFlow, there are typically 3 fundamental steps to creating and training a model.\n",
    "\n",
    "* Creating a model - piece together the layers of a neural network yourself (using the Functional or Sequential API) or import a previously built model (known as transfer learning).\n",
    "* Compiling a model - defining how a models performance should be measured (loss/metrics) as well as defining how it should improve (optimizer).\n",
    "* Fitting a model - letting the model try to find patterns in the data (how does X get to y)."
   ]
  },
  {
   "cell_type": "code",
   "execution_count": 6,
   "id": "b14302ec",
   "metadata": {},
   "outputs": [
    {
     "name": "stdout",
     "output_type": "stream",
     "text": [
      "Epoch 1/5\n",
      "1/1 [==============================] - 3s 3s/step - loss: 20.7905 - mae: 20.7905\n",
      "Epoch 2/5\n",
      "1/1 [==============================] - 0s 9ms/step - loss: 20.4322 - mae: 20.4322\n",
      "Epoch 3/5\n",
      "1/1 [==============================] - 0s 18ms/step - loss: 20.1509 - mae: 20.1509\n",
      "Epoch 4/5\n",
      "1/1 [==============================] - 0s 15ms/step - loss: 19.8697 - mae: 19.8697\n",
      "Epoch 5/5\n",
      "1/1 [==============================] - 0s 17ms/step - loss: 19.5884 - mae: 19.5884\n"
     ]
    },
    {
     "data": {
      "text/plain": [
       "<keras.callbacks.History at 0x13aa2f6caf0>"
      ]
     },
     "execution_count": 6,
     "metadata": {},
     "output_type": "execute_result"
    }
   ],
   "source": [
    "# Set random seed\n",
    "tf.random.set_seed(42)\n",
    "\n",
    "# Create a model using the Sequential API\n",
    "model = tf.keras.Sequential([\n",
    "  tf.keras.layers.Dense(1)\n",
    "])\n",
    "\n",
    "# Compile the model\n",
    "model.compile(loss=tf.keras.losses.mae, # mae is short for mean absolute error\n",
    "              optimizer=tf.keras.optimizers.SGD(), # SGD is short for stochastic gradient descent\n",
    "              metrics=[\"mae\"])\n",
    "\n",
    "# Fit the model\n",
    "# model.fit(X, y, epochs=5) # this will break with TensorFlow 2.7.0+\n",
    "model.fit(tf.expand_dims(X, axis=-1), y, epochs=5)"
   ]
  },
  {
   "cell_type": "code",
   "execution_count": 7,
   "id": "e321ca38",
   "metadata": {},
   "outputs": [
    {
     "data": {
      "text/plain": [
       "(array([-7., -4., -1.,  2.,  5.,  8., 11., 14.]),\n",
       " array([ 3.,  6.,  9., 12., 15., 18., 21., 24.]))"
      ]
     },
     "execution_count": 7,
     "metadata": {},
     "output_type": "execute_result"
    }
   ],
   "source": [
    "# Check out X and y\n",
    "X, y"
   ]
  },
  {
   "cell_type": "code",
   "execution_count": 8,
   "id": "af401818",
   "metadata": {},
   "outputs": [
    {
     "name": "stdout",
     "output_type": "stream",
     "text": [
      "1/1 [==============================] - 1s 567ms/step\n"
     ]
    },
    {
     "data": {
      "text/plain": [
       "array([[-21.282747]], dtype=float32)"
      ]
     },
     "execution_count": 8,
     "metadata": {},
     "output_type": "execute_result"
    }
   ],
   "source": [
    "# Make a prediction with the model\n",
    "model.predict([17.0])"
   ]
  },
  {
   "cell_type": "markdown",
   "id": "22f3f0f5",
   "metadata": {},
   "source": [
    "### Improving a model\n",
    "\n",
    "To improve our model, we alter almost every part of the 3 steps we went through before.\n",
    "\n",
    "* Creating a model - here you might want to add more layers, increase the number of hidden units (also called neurons) within each layer, change the activation functions of each layer.\n",
    "* Compiling a model - you might want to choose optimization function or perhaps change the learning rate of the optimization function.\n",
    "* Fitting a model - perhaps you could fit a model for more epochs (leave it training for longer) or on more data (give the model more examples to learn from)."
   ]
  },
  {
   "cell_type": "code",
   "execution_count": 9,
   "id": "eb7088b0",
   "metadata": {},
   "outputs": [
    {
     "name": "stdout",
     "output_type": "stream",
     "text": [
      "Epoch 1/100\n",
      "1/1 [==============================] - 1s 1s/step - loss: 7.8421 - mae: 7.8421\n",
      "Epoch 2/100\n",
      "1/1 [==============================] - 0s 28ms/step - loss: 7.7096 - mae: 7.7096\n",
      "Epoch 3/100\n",
      "1/1 [==============================] - 0s 15ms/step - loss: 7.5771 - mae: 7.5771\n",
      "Epoch 4/100\n",
      "1/1 [==============================] - 0s 17ms/step - loss: 7.4775 - mae: 7.4775\n",
      "Epoch 5/100\n",
      "1/1 [==============================] - 0s 19ms/step - loss: 7.4719 - mae: 7.4719\n",
      "Epoch 6/100\n",
      "1/1 [==============================] - 0s 16ms/step - loss: 7.4662 - mae: 7.4662\n",
      "Epoch 7/100\n",
      "1/1 [==============================] - 0s 15ms/step - loss: 7.4606 - mae: 7.4606\n",
      "Epoch 8/100\n",
      "1/1 [==============================] - 0s 21ms/step - loss: 7.4550 - mae: 7.4550\n",
      "Epoch 9/100\n",
      "1/1 [==============================] - 0s 14ms/step - loss: 7.4494 - mae: 7.4494\n",
      "Epoch 10/100\n",
      "1/1 [==============================] - 0s 18ms/step - loss: 7.4437 - mae: 7.4437\n",
      "Epoch 11/100\n",
      "1/1 [==============================] - 0s 69ms/step - loss: 7.4381 - mae: 7.4381\n",
      "Epoch 12/100\n",
      "1/1 [==============================] - 0s 24ms/step - loss: 7.4325 - mae: 7.4325\n",
      "Epoch 13/100\n",
      "1/1 [==============================] - 0s 28ms/step - loss: 7.4269 - mae: 7.4269\n",
      "Epoch 14/100\n",
      "1/1 [==============================] - 0s 17ms/step - loss: 7.4212 - mae: 7.4212\n",
      "Epoch 15/100\n",
      "1/1 [==============================] - 0s 16ms/step - loss: 7.4156 - mae: 7.4156\n",
      "Epoch 16/100\n",
      "1/1 [==============================] - 0s 17ms/step - loss: 7.4100 - mae: 7.4100\n",
      "Epoch 17/100\n",
      "1/1 [==============================] - 0s 25ms/step - loss: 7.4044 - mae: 7.4044\n",
      "Epoch 18/100\n",
      "1/1 [==============================] - 0s 29ms/step - loss: 7.3987 - mae: 7.3987\n",
      "Epoch 19/100\n",
      "1/1 [==============================] - 0s 25ms/step - loss: 7.3931 - mae: 7.3931\n",
      "Epoch 20/100\n",
      "1/1 [==============================] - 0s 13ms/step - loss: 7.3875 - mae: 7.3875\n",
      "Epoch 21/100\n",
      "1/1 [==============================] - 0s 16ms/step - loss: 7.3819 - mae: 7.3819\n",
      "Epoch 22/100\n",
      "1/1 [==============================] - 0s 41ms/step - loss: 7.3763 - mae: 7.3763\n",
      "Epoch 23/100\n",
      "1/1 [==============================] - 0s 26ms/step - loss: 7.3706 - mae: 7.3706\n",
      "Epoch 24/100\n",
      "1/1 [==============================] - 0s 15ms/step - loss: 7.3650 - mae: 7.3650\n",
      "Epoch 25/100\n",
      "1/1 [==============================] - 0s 17ms/step - loss: 7.3594 - mae: 7.3594\n",
      "Epoch 26/100\n",
      "1/1 [==============================] - 0s 40ms/step - loss: 7.3537 - mae: 7.3537\n",
      "Epoch 27/100\n",
      "1/1 [==============================] - 0s 19ms/step - loss: 7.3481 - mae: 7.3481\n",
      "Epoch 28/100\n",
      "1/1 [==============================] - 0s 25ms/step - loss: 7.3425 - mae: 7.3425\n",
      "Epoch 29/100\n",
      "1/1 [==============================] - 0s 45ms/step - loss: 7.3369 - mae: 7.3369\n",
      "Epoch 30/100\n",
      "1/1 [==============================] - 0s 27ms/step - loss: 7.3313 - mae: 7.3313\n",
      "Epoch 31/100\n",
      "1/1 [==============================] - 0s 17ms/step - loss: 7.3256 - mae: 7.3256\n",
      "Epoch 32/100\n",
      "1/1 [==============================] - 0s 19ms/step - loss: 7.3200 - mae: 7.3200\n",
      "Epoch 33/100\n",
      "1/1 [==============================] - 0s 21ms/step - loss: 7.3144 - mae: 7.3144\n",
      "Epoch 34/100\n",
      "1/1 [==============================] - 0s 19ms/step - loss: 7.3088 - mae: 7.3088\n",
      "Epoch 35/100\n",
      "1/1 [==============================] - 0s 19ms/step - loss: 7.3031 - mae: 7.3031\n",
      "Epoch 36/100\n",
      "1/1 [==============================] - 0s 21ms/step - loss: 7.2975 - mae: 7.2975\n",
      "Epoch 37/100\n",
      "1/1 [==============================] - 0s 17ms/step - loss: 7.2919 - mae: 7.2919\n",
      "Epoch 38/100\n",
      "1/1 [==============================] - 0s 18ms/step - loss: 7.2862 - mae: 7.2862\n",
      "Epoch 39/100\n",
      "1/1 [==============================] - 0s 29ms/step - loss: 7.2806 - mae: 7.2806\n",
      "Epoch 40/100\n",
      "1/1 [==============================] - 0s 24ms/step - loss: 7.2750 - mae: 7.2750\n",
      "Epoch 41/100\n",
      "1/1 [==============================] - 0s 44ms/step - loss: 7.2694 - mae: 7.2694\n",
      "Epoch 42/100\n",
      "1/1 [==============================] - 0s 33ms/step - loss: 7.2638 - mae: 7.2638\n",
      "Epoch 43/100\n",
      "1/1 [==============================] - 0s 21ms/step - loss: 7.2581 - mae: 7.2581\n",
      "Epoch 44/100\n",
      "1/1 [==============================] - 0s 38ms/step - loss: 7.2525 - mae: 7.2525\n",
      "Epoch 45/100\n",
      "1/1 [==============================] - 0s 22ms/step - loss: 7.2469 - mae: 7.2469\n",
      "Epoch 46/100\n",
      "1/1 [==============================] - 0s 27ms/step - loss: 7.2413 - mae: 7.2413\n",
      "Epoch 47/100\n",
      "1/1 [==============================] - 0s 31ms/step - loss: 7.2356 - mae: 7.2356\n",
      "Epoch 48/100\n",
      "1/1 [==============================] - 0s 21ms/step - loss: 7.2300 - mae: 7.2300\n",
      "Epoch 49/100\n",
      "1/1 [==============================] - 0s 37ms/step - loss: 7.2244 - mae: 7.2244\n",
      "Epoch 50/100\n",
      "1/1 [==============================] - 0s 23ms/step - loss: 7.2188 - mae: 7.2188\n",
      "Epoch 51/100\n",
      "1/1 [==============================] - 0s 29ms/step - loss: 7.2131 - mae: 7.2131\n",
      "Epoch 52/100\n",
      "1/1 [==============================] - 0s 33ms/step - loss: 7.2075 - mae: 7.2075\n",
      "Epoch 53/100\n",
      "1/1 [==============================] - 0s 19ms/step - loss: 7.2019 - mae: 7.2019\n",
      "Epoch 54/100\n",
      "1/1 [==============================] - 0s 45ms/step - loss: 7.1962 - mae: 7.1962\n",
      "Epoch 55/100\n",
      "1/1 [==============================] - 0s 34ms/step - loss: 7.1906 - mae: 7.1906\n",
      "Epoch 56/100\n",
      "1/1 [==============================] - 0s 18ms/step - loss: 7.1850 - mae: 7.1850\n",
      "Epoch 57/100\n",
      "1/1 [==============================] - 0s 23ms/step - loss: 7.1794 - mae: 7.1794\n",
      "Epoch 58/100\n",
      "1/1 [==============================] - 0s 17ms/step - loss: 7.1737 - mae: 7.1737\n",
      "Epoch 59/100\n",
      "1/1 [==============================] - 0s 20ms/step - loss: 7.1681 - mae: 7.1681\n",
      "Epoch 60/100\n",
      "1/1 [==============================] - 0s 17ms/step - loss: 7.1625 - mae: 7.1625\n",
      "Epoch 61/100\n",
      "1/1 [==============================] - 0s 18ms/step - loss: 7.1569 - mae: 7.1569\n",
      "Epoch 62/100\n",
      "1/1 [==============================] - 0s 18ms/step - loss: 7.1512 - mae: 7.1512\n",
      "Epoch 63/100\n",
      "1/1 [==============================] - 0s 25ms/step - loss: 7.1456 - mae: 7.1456\n",
      "Epoch 64/100\n",
      "1/1 [==============================] - 0s 18ms/step - loss: 7.1400 - mae: 7.1400\n",
      "Epoch 65/100\n",
      "1/1 [==============================] - 0s 17ms/step - loss: 7.1344 - mae: 7.1344\n",
      "Epoch 66/100\n",
      "1/1 [==============================] - 0s 34ms/step - loss: 7.1287 - mae: 7.1287\n",
      "Epoch 67/100\n",
      "1/1 [==============================] - 0s 22ms/step - loss: 7.1231 - mae: 7.1231\n",
      "Epoch 68/100\n",
      "1/1 [==============================] - 0s 31ms/step - loss: 7.1175 - mae: 7.1175\n",
      "Epoch 69/100\n",
      "1/1 [==============================] - 0s 44ms/step - loss: 7.1119 - mae: 7.1119\n",
      "Epoch 70/100\n",
      "1/1 [==============================] - 0s 37ms/step - loss: 7.1062 - mae: 7.1062\n",
      "Epoch 71/100\n",
      "1/1 [==============================] - 0s 20ms/step - loss: 7.1006 - mae: 7.1006\n",
      "Epoch 72/100\n",
      "1/1 [==============================] - 0s 26ms/step - loss: 7.0950 - mae: 7.0950\n",
      "Epoch 73/100\n",
      "1/1 [==============================] - 0s 14ms/step - loss: 7.0894 - mae: 7.0894\n",
      "Epoch 74/100\n",
      "1/1 [==============================] - 0s 15ms/step - loss: 7.0838 - mae: 7.0838\n",
      "Epoch 75/100\n",
      "1/1 [==============================] - 0s 18ms/step - loss: 7.0781 - mae: 7.0781\n",
      "Epoch 76/100\n",
      "1/1 [==============================] - 0s 17ms/step - loss: 7.0725 - mae: 7.0725\n",
      "Epoch 77/100\n",
      "1/1 [==============================] - 0s 24ms/step - loss: 7.0669 - mae: 7.0669\n",
      "Epoch 78/100\n",
      "1/1 [==============================] - 0s 19ms/step - loss: 7.0613 - mae: 7.0613\n",
      "Epoch 79/100\n",
      "1/1 [==============================] - 0s 18ms/step - loss: 7.0556 - mae: 7.0556\n",
      "Epoch 80/100\n",
      "1/1 [==============================] - 0s 12ms/step - loss: 7.0500 - mae: 7.0500\n",
      "Epoch 81/100\n",
      "1/1 [==============================] - 0s 21ms/step - loss: 7.0444 - mae: 7.0444\n",
      "Epoch 82/100\n",
      "1/1 [==============================] - 0s 23ms/step - loss: 7.0388 - mae: 7.0388\n",
      "Epoch 83/100\n",
      "1/1 [==============================] - 0s 17ms/step - loss: 7.0331 - mae: 7.0331\n",
      "Epoch 84/100\n",
      "1/1 [==============================] - 0s 18ms/step - loss: 7.0275 - mae: 7.0275\n",
      "Epoch 85/100\n",
      "1/1 [==============================] - 0s 14ms/step - loss: 7.0219 - mae: 7.0219\n",
      "Epoch 86/100\n",
      "1/1 [==============================] - 0s 15ms/step - loss: 7.0163 - mae: 7.0163\n",
      "Epoch 87/100\n",
      "1/1 [==============================] - 0s 17ms/step - loss: 7.0106 - mae: 7.0106\n",
      "Epoch 88/100\n"
     ]
    },
    {
     "name": "stdout",
     "output_type": "stream",
     "text": [
      "1/1 [==============================] - 0s 18ms/step - loss: 7.0050 - mae: 7.0050\n",
      "Epoch 89/100\n",
      "1/1 [==============================] - 0s 30ms/step - loss: 6.9994 - mae: 6.9994\n",
      "Epoch 90/100\n",
      "1/1 [==============================] - 0s 20ms/step - loss: 6.9938 - mae: 6.9938\n",
      "Epoch 91/100\n",
      "1/1 [==============================] - 0s 16ms/step - loss: 6.9881 - mae: 6.9881\n",
      "Epoch 92/100\n",
      "1/1 [==============================] - 0s 24ms/step - loss: 6.9825 - mae: 6.9825\n",
      "Epoch 93/100\n",
      "1/1 [==============================] - 0s 15ms/step - loss: 6.9769 - mae: 6.9769\n",
      "Epoch 94/100\n",
      "1/1 [==============================] - 0s 25ms/step - loss: 6.9713 - mae: 6.9713\n",
      "Epoch 95/100\n",
      "1/1 [==============================] - 0s 17ms/step - loss: 6.9656 - mae: 6.9656\n",
      "Epoch 96/100\n",
      "1/1 [==============================] - 0s 21ms/step - loss: 6.9600 - mae: 6.9600\n",
      "Epoch 97/100\n",
      "1/1 [==============================] - 0s 25ms/step - loss: 6.9544 - mae: 6.9544\n",
      "Epoch 98/100\n",
      "1/1 [==============================] - 0s 16ms/step - loss: 6.9488 - mae: 6.9488\n",
      "Epoch 99/100\n",
      "1/1 [==============================] - 0s 17ms/step - loss: 6.9431 - mae: 6.9431\n",
      "Epoch 100/100\n",
      "1/1 [==============================] - 0s 14ms/step - loss: 6.9375 - mae: 6.9375\n"
     ]
    },
    {
     "data": {
      "text/plain": [
       "<keras.callbacks.History at 0x13aa4263fa0>"
      ]
     },
     "execution_count": 9,
     "metadata": {},
     "output_type": "execute_result"
    }
   ],
   "source": [
    "# Set random seed\n",
    "tf.random.set_seed(42)\n",
    "\n",
    "# Create a model (same as above)\n",
    "model = tf.keras.Sequential([\n",
    "  tf.keras.layers.Dense(1)\n",
    "])\n",
    "\n",
    "# Compile model (same as above)\n",
    "model.compile(loss=tf.keras.losses.mae,\n",
    "              optimizer=tf.keras.optimizers.SGD(),\n",
    "              metrics=[\"mae\"])\n",
    "\n",
    "# Fit model (this time we'll train for longer)\n",
    "model.fit(tf.expand_dims(X, axis=-1), y, epochs=100) # train for 100 epochs not 10"
   ]
  },
  {
   "cell_type": "code",
   "execution_count": 10,
   "id": "cf7c6ae3",
   "metadata": {},
   "outputs": [
    {
     "data": {
      "text/plain": [
       "(array([-7., -4., -1.,  2.,  5.,  8., 11., 14.]),\n",
       " array([ 3.,  6.,  9., 12., 15., 18., 21., 24.]))"
      ]
     },
     "execution_count": 10,
     "metadata": {},
     "output_type": "execute_result"
    }
   ],
   "source": [
    "# Remind ourselves of what X and y are\n",
    "X, y"
   ]
  },
  {
   "cell_type": "code",
   "execution_count": 11,
   "id": "f8d9bc0d",
   "metadata": {},
   "outputs": [
    {
     "name": "stdout",
     "output_type": "stream",
     "text": [
      "1/1 [==============================] - 0s 403ms/step\n"
     ]
    },
    {
     "data": {
      "text/plain": [
       "array([[30.023958]], dtype=float32)"
      ]
     },
     "execution_count": 11,
     "metadata": {},
     "output_type": "execute_result"
    }
   ],
   "source": [
    "# Try and predict what y would be if X was 17.0\n",
    "model.predict([17.0]) # the right answer is 27.0 (y = X + 10)"
   ]
  },
  {
   "cell_type": "code",
   "execution_count": 12,
   "id": "7c710282",
   "metadata": {},
   "outputs": [
    {
     "name": "stdout",
     "output_type": "stream",
     "text": [
      "Epoch 1/100\n",
      "1/1 [==============================] - 1s 1s/step - loss: 13.5199 - mae: 13.5199\n",
      "Epoch 2/100\n",
      "1/1 [==============================] - 0s 32ms/step - loss: 13.4688 - mae: 13.4688\n",
      "Epoch 3/100\n",
      "1/1 [==============================] - 0s 17ms/step - loss: 13.4176 - mae: 13.4176\n",
      "Epoch 4/100\n",
      "1/1 [==============================] - 0s 22ms/step - loss: 13.3664 - mae: 13.3664\n",
      "Epoch 5/100\n",
      "1/1 [==============================] - 0s 17ms/step - loss: 13.3152 - mae: 13.3152\n",
      "Epoch 6/100\n",
      "1/1 [==============================] - 0s 31ms/step - loss: 13.2639 - mae: 13.2639\n",
      "Epoch 7/100\n",
      "1/1 [==============================] - 0s 33ms/step - loss: 13.2127 - mae: 13.2127\n",
      "Epoch 8/100\n",
      "1/1 [==============================] - 0s 31ms/step - loss: 13.1614 - mae: 13.1614\n",
      "Epoch 9/100\n",
      "1/1 [==============================] - 0s 17ms/step - loss: 13.1101 - mae: 13.1101\n",
      "Epoch 10/100\n",
      "1/1 [==============================] - 0s 99ms/step - loss: 13.0587 - mae: 13.0587\n",
      "Epoch 11/100\n",
      "1/1 [==============================] - 0s 19ms/step - loss: 13.0073 - mae: 13.0073\n",
      "Epoch 12/100\n",
      "1/1 [==============================] - 0s 18ms/step - loss: 12.9559 - mae: 12.9559\n",
      "Epoch 13/100\n",
      "1/1 [==============================] - 0s 21ms/step - loss: 12.9044 - mae: 12.9044\n",
      "Epoch 14/100\n",
      "1/1 [==============================] - 0s 34ms/step - loss: 12.8528 - mae: 12.8528\n",
      "Epoch 15/100\n",
      "1/1 [==============================] - 0s 184ms/step - loss: 12.8012 - mae: 12.8012\n",
      "Epoch 16/100\n",
      "1/1 [==============================] - 0s 29ms/step - loss: 12.7495 - mae: 12.7495\n",
      "Epoch 17/100\n",
      "1/1 [==============================] - 0s 42ms/step - loss: 12.6977 - mae: 12.6977\n",
      "Epoch 18/100\n",
      "1/1 [==============================] - 0s 20ms/step - loss: 12.6459 - mae: 12.6459\n",
      "Epoch 19/100\n",
      "1/1 [==============================] - 0s 23ms/step - loss: 12.5940 - mae: 12.5940\n",
      "Epoch 20/100\n",
      "1/1 [==============================] - 0s 21ms/step - loss: 12.5420 - mae: 12.5420\n",
      "Epoch 21/100\n",
      "1/1 [==============================] - 0s 29ms/step - loss: 12.4899 - mae: 12.4899\n",
      "Epoch 22/100\n",
      "1/1 [==============================] - 0s 26ms/step - loss: 12.4377 - mae: 12.4377\n",
      "Epoch 23/100\n",
      "1/1 [==============================] - 0s 18ms/step - loss: 12.3854 - mae: 12.3854\n",
      "Epoch 24/100\n",
      "1/1 [==============================] - 0s 131ms/step - loss: 12.3330 - mae: 12.3330\n",
      "Epoch 25/100\n",
      "1/1 [==============================] - 0s 54ms/step - loss: 12.2805 - mae: 12.2805\n",
      "Epoch 26/100\n",
      "1/1 [==============================] - 0s 28ms/step - loss: 12.2279 - mae: 12.2279\n",
      "Epoch 27/100\n",
      "1/1 [==============================] - 0s 31ms/step - loss: 12.1752 - mae: 12.1752\n",
      "Epoch 28/100\n",
      "1/1 [==============================] - 0s 30ms/step - loss: 12.1223 - mae: 12.1223\n",
      "Epoch 29/100\n",
      "1/1 [==============================] - 0s 36ms/step - loss: 12.0693 - mae: 12.0693\n",
      "Epoch 30/100\n",
      "1/1 [==============================] - 0s 38ms/step - loss: 12.0162 - mae: 12.0162\n",
      "Epoch 31/100\n",
      "1/1 [==============================] - 0s 17ms/step - loss: 11.9630 - mae: 11.9630\n",
      "Epoch 32/100\n",
      "1/1 [==============================] - 0s 24ms/step - loss: 11.9096 - mae: 11.9096\n",
      "Epoch 33/100\n",
      "1/1 [==============================] - 0s 18ms/step - loss: 11.8560 - mae: 11.8560\n",
      "Epoch 34/100\n",
      "1/1 [==============================] - 0s 18ms/step - loss: 11.8023 - mae: 11.8023\n",
      "Epoch 35/100\n",
      "1/1 [==============================] - 0s 52ms/step - loss: 11.7484 - mae: 11.7484\n",
      "Epoch 36/100\n",
      "1/1 [==============================] - 0s 18ms/step - loss: 11.6944 - mae: 11.6944\n",
      "Epoch 37/100\n",
      "1/1 [==============================] - 0s 18ms/step - loss: 11.6402 - mae: 11.6402\n",
      "Epoch 38/100\n",
      "1/1 [==============================] - 0s 52ms/step - loss: 11.5859 - mae: 11.5859\n",
      "Epoch 39/100\n",
      "1/1 [==============================] - 0s 16ms/step - loss: 11.5313 - mae: 11.5313\n",
      "Epoch 40/100\n",
      "1/1 [==============================] - 0s 18ms/step - loss: 11.4766 - mae: 11.4766\n",
      "Epoch 41/100\n",
      "1/1 [==============================] - 0s 18ms/step - loss: 11.4217 - mae: 11.4217\n",
      "Epoch 42/100\n",
      "1/1 [==============================] - 0s 25ms/step - loss: 11.3666 - mae: 11.3666\n",
      "Epoch 43/100\n",
      "1/1 [==============================] - 0s 31ms/step - loss: 11.3113 - mae: 11.3113\n",
      "Epoch 44/100\n",
      "1/1 [==============================] - 0s 19ms/step - loss: 11.2558 - mae: 11.2558\n",
      "Epoch 45/100\n",
      "1/1 [==============================] - 0s 19ms/step - loss: 11.2000 - mae: 11.2000\n",
      "Epoch 46/100\n",
      "1/1 [==============================] - 0s 14ms/step - loss: 11.1441 - mae: 11.1441\n",
      "Epoch 47/100\n",
      "1/1 [==============================] - 0s 19ms/step - loss: 11.0880 - mae: 11.0880\n",
      "Epoch 48/100\n",
      "1/1 [==============================] - 0s 19ms/step - loss: 11.0316 - mae: 11.0316\n",
      "Epoch 49/100\n",
      "1/1 [==============================] - 0s 17ms/step - loss: 10.9750 - mae: 10.9750\n",
      "Epoch 50/100\n",
      "1/1 [==============================] - 0s 22ms/step - loss: 10.9181 - mae: 10.9181\n",
      "Epoch 51/100\n",
      "1/1 [==============================] - 0s 27ms/step - loss: 10.8611 - mae: 10.8611\n",
      "Epoch 52/100\n",
      "1/1 [==============================] - 0s 90ms/step - loss: 10.8038 - mae: 10.8038\n",
      "Epoch 53/100\n",
      "1/1 [==============================] - 0s 86ms/step - loss: 10.7462 - mae: 10.7462\n",
      "Epoch 54/100\n",
      "1/1 [==============================] - 0s 13ms/step - loss: 10.6884 - mae: 10.6884\n",
      "Epoch 55/100\n",
      "1/1 [==============================] - 0s 29ms/step - loss: 10.6303 - mae: 10.6303\n",
      "Epoch 56/100\n",
      "1/1 [==============================] - 0s 29ms/step - loss: 10.5719 - mae: 10.5719\n",
      "Epoch 57/100\n",
      "1/1 [==============================] - 0s 22ms/step - loss: 10.5133 - mae: 10.5133\n",
      "Epoch 58/100\n",
      "1/1 [==============================] - 0s 119ms/step - loss: 10.4544 - mae: 10.4544\n",
      "Epoch 59/100\n",
      "1/1 [==============================] - 0s 23ms/step - loss: 10.3952 - mae: 10.3952\n",
      "Epoch 60/100\n",
      "1/1 [==============================] - 0s 13ms/step - loss: 10.3357 - mae: 10.3357\n",
      "Epoch 61/100\n",
      "1/1 [==============================] - 0s 111ms/step - loss: 10.2760 - mae: 10.2760\n",
      "Epoch 62/100\n",
      "1/1 [==============================] - 0s 15ms/step - loss: 10.2159 - mae: 10.2159\n",
      "Epoch 63/100\n",
      "1/1 [==============================] - 0s 13ms/step - loss: 10.1555 - mae: 10.1555\n",
      "Epoch 64/100\n",
      "1/1 [==============================] - 0s 41ms/step - loss: 10.0949 - mae: 10.0949\n",
      "Epoch 65/100\n",
      "1/1 [==============================] - 0s 16ms/step - loss: 10.0339 - mae: 10.0339\n",
      "Epoch 66/100\n",
      "1/1 [==============================] - 0s 40ms/step - loss: 9.9726 - mae: 9.9726\n",
      "Epoch 67/100\n",
      "1/1 [==============================] - 0s 16ms/step - loss: 9.9109 - mae: 9.9109\n",
      "Epoch 68/100\n",
      "1/1 [==============================] - 0s 14ms/step - loss: 9.8489 - mae: 9.8489\n",
      "Epoch 69/100\n",
      "1/1 [==============================] - 0s 49ms/step - loss: 9.7866 - mae: 9.7866\n",
      "Epoch 70/100\n",
      "1/1 [==============================] - 0s 11ms/step - loss: 9.7240 - mae: 9.7240\n",
      "Epoch 71/100\n",
      "1/1 [==============================] - 0s 19ms/step - loss: 9.6610 - mae: 9.6610\n",
      "Epoch 72/100\n",
      "1/1 [==============================] - 0s 13ms/step - loss: 9.5976 - mae: 9.5976\n",
      "Epoch 73/100\n",
      "1/1 [==============================] - 0s 12ms/step - loss: 9.5339 - mae: 9.5339\n",
      "Epoch 74/100\n",
      "1/1 [==============================] - 0s 14ms/step - loss: 9.4698 - mae: 9.4698\n",
      "Epoch 75/100\n",
      "1/1 [==============================] - 0s 13ms/step - loss: 9.4053 - mae: 9.4053\n",
      "Epoch 76/100\n",
      "1/1 [==============================] - 0s 13ms/step - loss: 9.3405 - mae: 9.3405\n",
      "Epoch 77/100\n",
      "1/1 [==============================] - 0s 14ms/step - loss: 9.2753 - mae: 9.2753\n",
      "Epoch 78/100\n",
      "1/1 [==============================] - 0s 11ms/step - loss: 9.2097 - mae: 9.2097\n",
      "Epoch 79/100\n",
      "1/1 [==============================] - 0s 12ms/step - loss: 9.1437 - mae: 9.1437\n",
      "Epoch 80/100\n",
      "1/1 [==============================] - 0s 13ms/step - loss: 9.0773 - mae: 9.0773\n",
      "Epoch 81/100\n",
      "1/1 [==============================] - 0s 15ms/step - loss: 9.0105 - mae: 9.0105\n",
      "Epoch 82/100\n",
      "1/1 [==============================] - 0s 14ms/step - loss: 8.9433 - mae: 8.9433\n",
      "Epoch 83/100\n",
      "1/1 [==============================] - 0s 14ms/step - loss: 8.8757 - mae: 8.8757\n",
      "Epoch 84/100\n",
      "1/1 [==============================] - 0s 15ms/step - loss: 8.8076 - mae: 8.8076\n",
      "Epoch 85/100\n",
      "1/1 [==============================] - 0s 38ms/step - loss: 8.7391 - mae: 8.7391\n",
      "Epoch 86/100\n"
     ]
    },
    {
     "name": "stdout",
     "output_type": "stream",
     "text": [
      "1/1 [==============================] - 0s 20ms/step - loss: 8.6702 - mae: 8.6702\n",
      "Epoch 87/100\n",
      "1/1 [==============================] - 0s 15ms/step - loss: 8.6008 - mae: 8.6008\n",
      "Epoch 88/100\n",
      "1/1 [==============================] - 0s 29ms/step - loss: 8.5309 - mae: 8.5309\n",
      "Epoch 89/100\n",
      "1/1 [==============================] - 0s 17ms/step - loss: 8.4606 - mae: 8.4606\n",
      "Epoch 90/100\n",
      "1/1 [==============================] - 0s 13ms/step - loss: 8.3899 - mae: 8.3899\n",
      "Epoch 91/100\n",
      "1/1 [==============================] - 0s 14ms/step - loss: 8.3186 - mae: 8.3186\n",
      "Epoch 92/100\n",
      "1/1 [==============================] - 0s 15ms/step - loss: 8.2469 - mae: 8.2469\n",
      "Epoch 93/100\n",
      "1/1 [==============================] - 0s 54ms/step - loss: 8.1748 - mae: 8.1748\n",
      "Epoch 94/100\n",
      "1/1 [==============================] - 0s 22ms/step - loss: 8.1022 - mae: 8.1022\n",
      "Epoch 95/100\n",
      "1/1 [==============================] - 0s 14ms/step - loss: 8.0292 - mae: 8.0292\n",
      "Epoch 96/100\n",
      "1/1 [==============================] - 0s 13ms/step - loss: 7.9556 - mae: 7.9556\n",
      "Epoch 97/100\n",
      "1/1 [==============================] - 0s 13ms/step - loss: 7.8816 - mae: 7.8816\n",
      "Epoch 98/100\n",
      "1/1 [==============================] - 0s 13ms/step - loss: 7.8070 - mae: 7.8070\n",
      "Epoch 99/100\n",
      "1/1 [==============================] - 0s 13ms/step - loss: 7.7319 - mae: 7.7319\n",
      "Epoch 100/100\n",
      "1/1 [==============================] - 0s 7ms/step - loss: 7.6562 - mae: 7.6562\n"
     ]
    },
    {
     "data": {
      "text/plain": [
       "<keras.callbacks.History at 0x13aa4313880>"
      ]
     },
     "execution_count": 12,
     "metadata": {},
     "output_type": "execute_result"
    }
   ],
   "source": [
    "# Set random seed\n",
    "tf.random.set_seed(42)\n",
    "\n",
    "# Create a model (same as above)\n",
    "model = tf.keras.Sequential([\n",
    "  tf.keras.layers.Dense(10, activation = 'relu'),\n",
    "    tf.keras.layers.Dense(1, activation = 'linear')\n",
    "])\n",
    "\n",
    "# Compile model (same as above)\n",
    "model.compile(loss=tf.keras.losses.mae,\n",
    "              optimizer=tf.keras.optimizers.SGD(learning_rate=0.001),\n",
    "              metrics=[\"mae\"])\n",
    "\n",
    "# Fit model (this time we'll train for longer)\n",
    "model.fit(tf.expand_dims(X, axis=-1), y, epochs=100) # train for 100 epochs not 10"
   ]
  },
  {
   "cell_type": "code",
   "execution_count": 13,
   "id": "031d2fce",
   "metadata": {},
   "outputs": [
    {
     "data": {
      "text/plain": [
       "(array([-7., -4., -1.,  2.,  5.,  8., 11., 14.]),\n",
       " array([ 3.,  6.,  9., 12., 15., 18., 21., 24.]))"
      ]
     },
     "execution_count": 13,
     "metadata": {},
     "output_type": "execute_result"
    }
   ],
   "source": [
    "# Remind ourselves of what X and y are\n",
    "X, y"
   ]
  },
  {
   "cell_type": "code",
   "execution_count": 14,
   "id": "0d7d6962",
   "metadata": {},
   "outputs": [
    {
     "name": "stdout",
     "output_type": "stream",
     "text": [
      "1/1 [==============================] - 1s 611ms/step\n"
     ]
    },
    {
     "data": {
      "text/plain": [
       "array([[18.44328]], dtype=float32)"
      ]
     },
     "execution_count": 14,
     "metadata": {},
     "output_type": "execute_result"
    }
   ],
   "source": [
    "# Try and predict what y would be if X was 17.0\n",
    "model.predict([17.0]) # the right answer is 27.0 (y = X + 10)"
   ]
  },
  {
   "cell_type": "markdown",
   "id": "a5b00f9b",
   "metadata": {},
   "source": [
    "### Evaluating a model"
   ]
  },
  {
   "cell_type": "code",
   "execution_count": 15,
   "id": "a17af754",
   "metadata": {},
   "outputs": [
    {
     "data": {
      "text/plain": [
       "array([-100,  -96,  -92,  -88,  -84,  -80,  -76,  -72,  -68,  -64,  -60,\n",
       "        -56,  -52,  -48,  -44,  -40,  -36,  -32,  -28,  -24,  -20,  -16,\n",
       "        -12,   -8,   -4,    0,    4,    8,   12,   16,   20,   24,   28,\n",
       "         32,   36,   40,   44,   48,   52,   56,   60,   64,   68,   72,\n",
       "         76,   80,   84,   88,   92,   96])"
      ]
     },
     "execution_count": 15,
     "metadata": {},
     "output_type": "execute_result"
    }
   ],
   "source": [
    "# Make a bigger dataset\n",
    "X = np.arange(-100, 100, 4)\n",
    "X"
   ]
  },
  {
   "cell_type": "code",
   "execution_count": 16,
   "id": "97d825f8",
   "metadata": {},
   "outputs": [
    {
     "data": {
      "text/plain": [
       "array([-90, -86, -82, -78, -74, -70, -66, -62, -58, -54, -50, -46, -42,\n",
       "       -38, -34, -30, -26, -22, -18, -14, -10,  -6,  -2,   2,   6,  10,\n",
       "        14,  18,  22,  26,  30,  34,  38,  42,  46,  50,  54,  58,  62,\n",
       "        66,  70,  74,  78,  82,  86,  90,  94,  98, 102, 106])"
      ]
     },
     "execution_count": 16,
     "metadata": {},
     "output_type": "execute_result"
    }
   ],
   "source": [
    "# Make labels for the dataset (adhering to the same pattern as before)\n",
    "y = np.arange(-90, 110, 4)\n",
    "y"
   ]
  },
  {
   "cell_type": "code",
   "execution_count": 17,
   "id": "981530c6",
   "metadata": {},
   "outputs": [
    {
     "data": {
      "text/plain": [
       "array([-90, -86, -82, -78, -74, -70, -66, -62, -58, -54, -50, -46, -42,\n",
       "       -38, -34, -30, -26, -22, -18, -14, -10,  -6,  -2,   2,   6,  10,\n",
       "        14,  18,  22,  26,  30,  34,  38,  42,  46,  50,  54,  58,  62,\n",
       "        66,  70,  74,  78,  82,  86,  90,  94,  98, 102, 106])"
      ]
     },
     "execution_count": 17,
     "metadata": {},
     "output_type": "execute_result"
    }
   ],
   "source": [
    "# Same result as above\n",
    "y = X + 10\n",
    "y"
   ]
  },
  {
   "cell_type": "markdown",
   "id": "9a206d9c",
   "metadata": {},
   "source": [
    "## Splitting the data into training and test set\n",
    "\n",
    "One of the other most common and important steps in a machine learning project is creating a training and test set (and when required, a validation set).\n",
    "\n",
    "Each set serves a specific purpose:\n",
    "\n",
    "* Training set - the model learns from this data, which is typically 70-80% of the total data available (like the course materials you study during the semester).\n",
    "* Validation set - the model gets tuned on this data, which is typically 10-15% of the total data available (like the practice exam you take before the final exam).\n",
    "* Test set - the model gets evaluated on this data to test what it has learned, it's typically 10-15% of the total data available (like the final exam you take at the end of the semester).\n",
    "\n",
    "For now, we'll just use a training and test set, this means we'll have a dataset for our model to learn on as well as be evaluated on."
   ]
  },
  {
   "cell_type": "code",
   "execution_count": 18,
   "id": "0ce09dc5",
   "metadata": {},
   "outputs": [
    {
     "data": {
      "text/plain": [
       "50"
      ]
     },
     "execution_count": 18,
     "metadata": {},
     "output_type": "execute_result"
    }
   ],
   "source": [
    "# Check how many samples we have\n",
    "len(X)"
   ]
  },
  {
   "cell_type": "code",
   "execution_count": 19,
   "id": "52e01861",
   "metadata": {},
   "outputs": [
    {
     "data": {
      "text/plain": [
       "(40, 10)"
      ]
     },
     "execution_count": 19,
     "metadata": {},
     "output_type": "execute_result"
    }
   ],
   "source": [
    "# Split data into train and test sets\n",
    "X_train = X[:40] # first 40 examples (80% of data)\n",
    "y_train = y[:40]\n",
    "\n",
    "X_test = X[40:] # last 10 examples (20% of data)\n",
    "y_test = y[40:]\n",
    "\n",
    "len(X_train), len(X_test)"
   ]
  },
  {
   "cell_type": "code",
   "execution_count": 20,
   "id": "ff663615",
   "metadata": {},
   "outputs": [
    {
     "data": {
      "image/png": "[encoded data removed]",
      "text/plain": [
       "<Figure size 1000x700 with 1 Axes>"
      ]
     },
     "metadata": {},
     "output_type": "display_data"
    }
   ],
   "source": [
    "plt.figure(figsize=(10, 7))\n",
    "# Plot training data in blue\n",
    "plt.scatter(X_train, y_train, c='b', label='Training data')\n",
    "# Plot test data in green\n",
    "plt.scatter(X_test, y_test, c='g', label='Testing data')\n",
    "# Show the legend\n",
    "plt.legend();"
   ]
  },
  {
   "cell_type": "markdown",
   "id": "b39ec393",
   "metadata": {},
   "source": [
    "### Visualizing the model"
   ]
  },
  {
   "cell_type": "code",
   "execution_count": 21,
   "id": "74dcd4ec",
   "metadata": {},
   "outputs": [],
   "source": [
    "model = tf.keras.Sequential([\n",
    "    tf.keras.layers.Dense(1)\n",
    "])\n",
    "\n",
    "model.compile(loss =tf.keras.losses.mae,\n",
    "             optimizer = tf.keras.optimizers.SGD(),\n",
    "             metrics = ['mae'])"
   ]
  },
  {
   "cell_type": "code",
   "execution_count": 22,
   "id": "51158cb4",
   "metadata": {},
   "outputs": [
    {
     "ename": "ValueError",
     "evalue": "This model has not yet been built. Build the model first by calling `build()` or by calling the model on a batch of data.",
     "output_type": "error",
     "traceback": [
      "\u001b[1;31m---------------------------------------------------------------------------\u001b[0m",
      "\u001b[1;31mValueError\u001b[0m                                Traceback (most recent call last)",
      "\u001b[1;32m~\\AppData\\Local\\Temp\\ipykernel_5612\\3470139634.py\u001b[0m in \u001b[0;36m<module>\u001b[1;34m\u001b[0m\n\u001b[1;32m----> 1\u001b[1;33m \u001b[0mmodel\u001b[0m\u001b[1;33m.\u001b[0m\u001b[0msummary\u001b[0m\u001b[1;33m(\u001b[0m\u001b[1;33m)\u001b[0m\u001b[1;33m\u001b[0m\u001b[1;33m\u001b[0m\u001b[0m\n\u001b[0m",
      "\u001b[1;32m~\\anaconda3\\lib\\site-packages\\keras\\engine\\training.py\u001b[0m in \u001b[0;36msummary\u001b[1;34m(self, line_length, positions, print_fn, expand_nested, show_trainable, layer_range)\u001b[0m\n\u001b[0;32m   3290\u001b[0m         \"\"\"\n\u001b[0;32m   3291\u001b[0m         \u001b[1;32mif\u001b[0m \u001b[1;32mnot\u001b[0m \u001b[0mself\u001b[0m\u001b[1;33m.\u001b[0m\u001b[0mbuilt\u001b[0m\u001b[1;33m:\u001b[0m\u001b[1;33m\u001b[0m\u001b[1;33m\u001b[0m\u001b[0m\n\u001b[1;32m-> 3292\u001b[1;33m             raise ValueError(\n\u001b[0m\u001b[0;32m   3293\u001b[0m                 \u001b[1;34m\"This model has not yet been built. \"\u001b[0m\u001b[1;33m\u001b[0m\u001b[1;33m\u001b[0m\u001b[0m\n\u001b[0;32m   3294\u001b[0m                 \u001b[1;34m\"Build the model first by calling `build()` or by calling \"\u001b[0m\u001b[1;33m\u001b[0m\u001b[1;33m\u001b[0m\u001b[0m\n",
      "\u001b[1;31mValueError\u001b[0m: This model has not yet been built. Build the model first by calling `build()` or by calling the model on a batch of data."
     ]
    }
   ],
   "source": [
    "model.summary()"
   ]
  },
  {
   "cell_type": "code",
   "execution_count": 36,
   "id": "09f0d996",
   "metadata": {},
   "outputs": [],
   "source": [
    "# Create a model that build automatically by specifying the input shape\n",
    "\n",
    "# Set random seed\n",
    "tf.random.set_seed(42)\n",
    "\n",
    "# Create a model (same as above)\n",
    "model = tf.keras.Sequential([\n",
    "  tf.keras.layers.Dense(1, input_shape=[1]) # define the input_shape to our model\n",
    "])\n",
    "\n",
    "# Compile model (same as above)\n",
    "model.compile(loss=tf.keras.losses.mae,\n",
    "              optimizer=tf.keras.optimizers.SGD(learning_rate=0.001),\n",
    "              metrics=[\"mae\"])"
   ]
  },
  {
   "cell_type": "code",
   "execution_count": 37,
   "id": "80c9480f",
   "metadata": {},
   "outputs": [
    {
     "name": "stdout",
     "output_type": "stream",
     "text": [
      "Model: \"sequential_5\"\n",
      "_________________________________________________________________\n",
      " Layer (type)                Output Shape              Param #   \n",
      "=================================================================\n",
      " dense_6 (Dense)             (None, 1)                 2         \n",
      "                                                                 \n",
      "=================================================================\n",
      "Total params: 2\n",
      "Trainable params: 2\n",
      "Non-trainable params: 0\n",
      "_________________________________________________________________\n"
     ]
    }
   ],
   "source": [
    "model.summary()"
   ]
  },
  {
   "cell_type": "code",
   "execution_count": 38,
   "id": "256e7557",
   "metadata": {},
   "outputs": [
    {
     "name": "stdout",
     "output_type": "stream",
     "text": [
      "You must install pydot (`pip install pydot`) and install graphviz (see instructions at https://graphviz.gitlab.io/download/) for plot_model to work.\n"
     ]
    }
   ],
   "source": [
    "from tensorflow.keras.utils import plot_model\n",
    "\n",
    "plot_model(model, show_shapes=True)"
   ]
  },
  {
   "cell_type": "code",
   "execution_count": 39,
   "id": "f31db98b",
   "metadata": {},
   "outputs": [
    {
     "name": "stdout",
     "output_type": "stream",
     "text": [
      "Epoch 1/100\n",
      "2/2 [==============================] - 0s 13ms/step - loss: 33.9400 - mae: 33.9400\n",
      "Epoch 2/100\n",
      "2/2 [==============================] - 0s 14ms/step - loss: 30.5302 - mae: 30.5302\n",
      "Epoch 3/100\n",
      "2/2 [==============================] - 0s 14ms/step - loss: 26.9595 - mae: 26.9595\n",
      "Epoch 4/100\n",
      "2/2 [==============================] - 0s 12ms/step - loss: 23.5949 - mae: 23.5949\n",
      "Epoch 5/100\n",
      "2/2 [==============================] - 0s 13ms/step - loss: 20.4200 - mae: 20.4200\n",
      "Epoch 6/100\n",
      "2/2 [==============================] - 0s 10ms/step - loss: 17.9247 - mae: 17.9247\n",
      "Epoch 7/100\n",
      "2/2 [==============================] - 0s 15ms/step - loss: 15.7230 - mae: 15.7230\n",
      "Epoch 8/100\n",
      "2/2 [==============================] - 0s 18ms/step - loss: 13.8005 - mae: 13.8005\n",
      "Epoch 9/100\n",
      "2/2 [==============================] - 0s 11ms/step - loss: 12.4502 - mae: 12.4502\n",
      "Epoch 10/100\n",
      "2/2 [==============================] - 0s 10ms/step - loss: 11.8153 - mae: 11.8153\n",
      "Epoch 11/100\n",
      "2/2 [==============================] - 0s 17ms/step - loss: 11.0810 - mae: 11.0810\n",
      "Epoch 12/100\n",
      "2/2 [==============================] - 0s 10ms/step - loss: 9.7197 - mae: 9.7197\n",
      "Epoch 13/100\n",
      "2/2 [==============================] - 0s 18ms/step - loss: 8.6857 - mae: 8.6857\n",
      "Epoch 14/100\n",
      "2/2 [==============================] - 0s 20ms/step - loss: 7.6622 - mae: 7.6622\n",
      "Epoch 15/100\n",
      "2/2 [==============================] - 0s 16ms/step - loss: 7.6101 - mae: 7.6101\n",
      "Epoch 16/100\n",
      "2/2 [==============================] - 0s 9ms/step - loss: 7.6257 - mae: 7.6257\n",
      "Epoch 17/100\n",
      "2/2 [==============================] - 0s 10ms/step - loss: 7.6916 - mae: 7.6916\n",
      "Epoch 18/100\n",
      "2/2 [==============================] - 0s 40ms/step - loss: 7.6536 - mae: 7.6536\n",
      "Epoch 19/100\n",
      "2/2 [==============================] - 0s 16ms/step - loss: 7.6653 - mae: 7.6653\n",
      "Epoch 20/100\n",
      "2/2 [==============================] - 0s 21ms/step - loss: 7.5986 - mae: 7.5986\n",
      "Epoch 21/100\n",
      "2/2 [==============================] - 0s 18ms/step - loss: 7.6008 - mae: 7.6008\n",
      "Epoch 22/100\n",
      "2/2 [==============================] - 0s 13ms/step - loss: 7.6154 - mae: 7.6154\n",
      "Epoch 23/100\n",
      "2/2 [==============================] - 0s 6ms/step - loss: 7.6189 - mae: 7.6189\n",
      "Epoch 24/100\n",
      "2/2 [==============================] - 0s 6ms/step - loss: 7.7304 - mae: 7.7304\n",
      "Epoch 25/100\n",
      "2/2 [==============================] - 0s 17ms/step - loss: 7.7363 - mae: 7.7363\n",
      "Epoch 26/100\n",
      "2/2 [==============================] - 0s 25ms/step - loss: 7.6338 - mae: 7.6338\n",
      "Epoch 27/100\n",
      "2/2 [==============================] - 0s 10ms/step - loss: 7.6029 - mae: 7.6029\n",
      "Epoch 28/100\n",
      "2/2 [==============================] - 0s 13ms/step - loss: 7.6083 - mae: 7.6083\n",
      "Epoch 29/100\n",
      "2/2 [==============================] - 0s 15ms/step - loss: 7.6612 - mae: 7.6612\n",
      "Epoch 30/100\n",
      "2/2 [==============================] - 0s 7ms/step - loss: 7.5894 - mae: 7.5894\n",
      "Epoch 31/100\n",
      "2/2 [==============================] - 0s 11ms/step - loss: 7.7222 - mae: 7.7222\n",
      "Epoch 32/100\n",
      "2/2 [==============================] - 0s 11ms/step - loss: 7.7480 - mae: 7.7480\n",
      "Epoch 33/100\n",
      "2/2 [==============================] - 0s 16ms/step - loss: 7.6209 - mae: 7.6209\n",
      "Epoch 34/100\n",
      "2/2 [==============================] - 0s 9ms/step - loss: 7.5961 - mae: 7.5961\n",
      "Epoch 35/100\n",
      "2/2 [==============================] - 0s 13ms/step - loss: 7.7040 - mae: 7.7040\n",
      "Epoch 36/100\n",
      "2/2 [==============================] - 0s 18ms/step - loss: 8.0146 - mae: 8.0146\n",
      "Epoch 37/100\n",
      "2/2 [==============================] - 0s 11ms/step - loss: 7.6710 - mae: 7.6710\n",
      "Epoch 38/100\n",
      "2/2 [==============================] - 0s 15ms/step - loss: 7.6122 - mae: 7.6122\n",
      "Epoch 39/100\n",
      "2/2 [==============================] - 0s 12ms/step - loss: 7.5797 - mae: 7.5797\n",
      "Epoch 40/100\n",
      "2/2 [==============================] - 0s 16ms/step - loss: 7.6029 - mae: 7.6029\n",
      "Epoch 41/100\n",
      "2/2 [==============================] - 0s 8ms/step - loss: 7.6150 - mae: 7.6150\n",
      "Epoch 42/100\n",
      "2/2 [==============================] - 0s 13ms/step - loss: 7.5725 - mae: 7.5725\n",
      "Epoch 43/100\n",
      "2/2 [==============================] - 0s 15ms/step - loss: 7.5824 - mae: 7.5824\n",
      "Epoch 44/100\n",
      "2/2 [==============================] - 0s 10ms/step - loss: 7.5892 - mae: 7.5892\n",
      "Epoch 45/100\n",
      "2/2 [==============================] - 0s 9ms/step - loss: 7.7175 - mae: 7.7175\n",
      "Epoch 46/100\n",
      "2/2 [==============================] - 0s 10ms/step - loss: 7.6564 - mae: 7.6564\n",
      "Epoch 47/100\n",
      "2/2 [==============================] - 0s 19ms/step - loss: 7.6416 - mae: 7.6416\n",
      "Epoch 48/100\n",
      "2/2 [==============================] - 0s 9ms/step - loss: 7.6713 - mae: 7.6713\n",
      "Epoch 49/100\n",
      "2/2 [==============================] - 0s 10ms/step - loss: 7.6231 - mae: 7.6231\n",
      "Epoch 50/100\n",
      "2/2 [==============================] - 0s 10ms/step - loss: 7.8250 - mae: 7.8250\n",
      "Epoch 51/100\n",
      "2/2 [==============================] - 0s 15ms/step - loss: 7.5852 - mae: 7.5852\n",
      "Epoch 52/100\n",
      "2/2 [==============================] - 0s 14ms/step - loss: 7.7184 - mae: 7.7184\n",
      "Epoch 53/100\n",
      "2/2 [==============================] - 0s 11ms/step - loss: 7.8248 - mae: 7.8248\n",
      "Epoch 54/100\n",
      "2/2 [==============================] - 0s 13ms/step - loss: 7.6103 - mae: 7.6103\n",
      "Epoch 55/100\n",
      "2/2 [==============================] - 0s 9ms/step - loss: 7.5800 - mae: 7.5800\n",
      "Epoch 56/100\n",
      "2/2 [==============================] - 0s 8ms/step - loss: 7.6121 - mae: 7.6121\n",
      "Epoch 57/100\n",
      "2/2 [==============================] - 0s 9ms/step - loss: 7.8794 - mae: 7.8794\n",
      "Epoch 58/100\n",
      "2/2 [==============================] - 0s 9ms/step - loss: 7.6665 - mae: 7.6665\n",
      "Epoch 59/100\n",
      "2/2 [==============================] - 0s 8ms/step - loss: 7.5673 - mae: 7.5673\n",
      "Epoch 60/100\n",
      "2/2 [==============================] - 0s 5ms/step - loss: 7.5814 - mae: 7.5814\n",
      "Epoch 61/100\n",
      "2/2 [==============================] - 0s 7ms/step - loss: 7.5628 - mae: 7.5628\n",
      "Epoch 62/100\n",
      "2/2 [==============================] - 0s 10ms/step - loss: 7.6230 - mae: 7.6230\n",
      "Epoch 63/100\n",
      "2/2 [==============================] - 0s 9ms/step - loss: 7.6411 - mae: 7.6411\n",
      "Epoch 64/100\n",
      "2/2 [==============================] - 0s 7ms/step - loss: 7.7674 - mae: 7.7674\n",
      "Epoch 65/100\n",
      "2/2 [==============================] - 0s 12ms/step - loss: 7.5729 - mae: 7.5729\n",
      "Epoch 66/100\n",
      "2/2 [==============================] - 0s 9ms/step - loss: 7.5605 - mae: 7.5605\n",
      "Epoch 67/100\n",
      "2/2 [==============================] - 0s 9ms/step - loss: 7.5881 - mae: 7.5881\n",
      "Epoch 68/100\n",
      "2/2 [==============================] - 0s 8ms/step - loss: 7.5585 - mae: 7.5585\n",
      "Epoch 69/100\n",
      "2/2 [==============================] - 0s 10ms/step - loss: 7.5842 - mae: 7.5842\n",
      "Epoch 70/100\n",
      "2/2 [==============================] - 0s 11ms/step - loss: 7.5932 - mae: 7.5932\n",
      "Epoch 71/100\n",
      "2/2 [==============================] - 0s 10ms/step - loss: 7.9421 - mae: 7.9421\n",
      "Epoch 72/100\n",
      "2/2 [==============================] - 0s 9ms/step - loss: 7.6959 - mae: 7.6959\n",
      "Epoch 73/100\n",
      "2/2 [==============================] - 0s 7ms/step - loss: 7.6528 - mae: 7.6528\n",
      "Epoch 74/100\n",
      "2/2 [==============================] - 0s 8ms/step - loss: 7.6578 - mae: 7.6578\n",
      "Epoch 75/100\n",
      "2/2 [==============================] - 0s 7ms/step - loss: 7.5927 - mae: 7.5927\n",
      "Epoch 76/100\n",
      "2/2 [==============================] - 0s 11ms/step - loss: 7.5804 - mae: 7.5804\n",
      "Epoch 77/100\n",
      "2/2 [==============================] - 0s 11ms/step - loss: 7.5406 - mae: 7.5406\n",
      "Epoch 78/100\n",
      "2/2 [==============================] - 0s 9ms/step - loss: 7.5955 - mae: 7.5955\n",
      "Epoch 79/100\n",
      "2/2 [==============================] - 0s 11ms/step - loss: 7.5614 - mae: 7.5614\n",
      "Epoch 80/100\n",
      "2/2 [==============================] - 0s 16ms/step - loss: 7.6301 - mae: 7.6301\n",
      "Epoch 81/100\n",
      "2/2 [==============================] - 0s 8ms/step - loss: 7.5813 - mae: 7.5813\n",
      "Epoch 82/100\n",
      "2/2 [==============================] - 0s 8ms/step - loss: 7.5345 - mae: 7.5345\n",
      "Epoch 83/100\n",
      "2/2 [==============================] - 0s 9ms/step - loss: 7.5688 - mae: 7.5688\n",
      "Epoch 84/100\n",
      "2/2 [==============================] - 0s 8ms/step - loss: 7.5387 - mae: 7.5387\n",
      "Epoch 85/100\n",
      "2/2 [==============================] - 0s 9ms/step - loss: 7.5861 - mae: 7.5861\n",
      "Epoch 86/100\n",
      "2/2 [==============================] - 0s 7ms/step - loss: 7.6491 - mae: 7.6491\n",
      "Epoch 87/100\n",
      "2/2 [==============================] - 0s 9ms/step - loss: 7.8118 - mae: 7.8118\n",
      "Epoch 88/100\n"
     ]
    },
    {
     "name": "stdout",
     "output_type": "stream",
     "text": [
      "2/2 [==============================] - 0s 8ms/step - loss: 8.1763 - mae: 8.1763\n",
      "Epoch 89/100\n",
      "2/2 [==============================] - 0s 11ms/step - loss: 7.5441 - mae: 7.5441\n",
      "Epoch 90/100\n",
      "2/2 [==============================] - 0s 12ms/step - loss: 7.5361 - mae: 7.5361\n",
      "Epoch 91/100\n",
      "2/2 [==============================] - 0s 10ms/step - loss: 7.5633 - mae: 7.5633\n",
      "Epoch 92/100\n",
      "2/2 [==============================] - 0s 8ms/step - loss: 7.5879 - mae: 7.5879\n",
      "Epoch 93/100\n",
      "2/2 [==============================] - 0s 11ms/step - loss: 7.5882 - mae: 7.5882\n",
      "Epoch 94/100\n",
      "2/2 [==============================] - 0s 11ms/step - loss: 7.5289 - mae: 7.5289\n",
      "Epoch 95/100\n",
      "2/2 [==============================] - 0s 12ms/step - loss: 7.7071 - mae: 7.7071\n",
      "Epoch 96/100\n",
      "2/2 [==============================] - 0s 9ms/step - loss: 7.5680 - mae: 7.5680\n",
      "Epoch 97/100\n",
      "2/2 [==============================] - 0s 7ms/step - loss: 7.6714 - mae: 7.6714\n",
      "Epoch 98/100\n",
      "2/2 [==============================] - 0s 8ms/step - loss: 7.5340 - mae: 7.5340\n",
      "Epoch 99/100\n",
      "2/2 [==============================] - 0s 5ms/step - loss: 7.5272 - mae: 7.5272\n",
      "Epoch 100/100\n",
      "2/2 [==============================] - 0s 5ms/step - loss: 7.5278 - mae: 7.5278\n"
     ]
    },
    {
     "data": {
      "text/plain": [
       "<keras.callbacks.History at 0x13aa68dc760>"
      ]
     },
     "execution_count": 39,
     "metadata": {},
     "output_type": "execute_result"
    }
   ],
   "source": [
    "model.fit(X_train, y_train, epochs = 100)"
   ]
  },
  {
   "cell_type": "markdown",
   "id": "fdc416fe",
   "metadata": {},
   "source": [
    "### Visualizing the predictions\n",
    "\n",
    "Now we've got a trained model, let's visualize some predictions.\n",
    "\n",
    "To visualize predictions, it's always a good idea to plot them against the ground truth labels.\n",
    "\n",
    "Often you'll see this in the form of y_test vs. y_pred (ground truth vs. predictions).\n",
    "\n",
    "First, we'll make some predictions on the test data (X_test), remember the model has never seen the test data."
   ]
  },
  {
   "cell_type": "code",
   "execution_count": 40,
   "id": "d8e16d76",
   "metadata": {},
   "outputs": [
    {
     "name": "stdout",
     "output_type": "stream",
     "text": [
      "WARNING:tensorflow:5 out of the last 5 calls to <function Model.make_predict_function.<locals>.predict_function at 0x0000013AA6C6CDC0> triggered tf.function retracing. Tracing is expensive and the excessive number of tracings could be due to (1) creating @tf.function repeatedly in a loop, (2) passing tensors with different shapes, (3) passing Python objects instead of tensors. For (1), please define your @tf.function outside of the loop. For (2), @tf.function has reduce_retracing=True option that can avoid unnecessary retracing. For (3), please refer to https://www.tensorflow.org/guide/function#controlling_retracing and https://www.tensorflow.org/api_docs/python/tf/function for  more details.\n",
      "1/1 [==============================] - 0s 171ms/step\n"
     ]
    }
   ],
   "source": [
    "# Make prediction\n",
    "y_preds = model.predict(X_test)"
   ]
  },
  {
   "cell_type": "code",
   "execution_count": 41,
   "id": "11c4e8b0",
   "metadata": {},
   "outputs": [
    {
     "data": {
      "text/plain": [
       "array([[54.07727 ],\n",
       "       [57.672455],\n",
       "       [61.26764 ],\n",
       "       [64.86282 ],\n",
       "       [68.45801 ],\n",
       "       [72.05319 ],\n",
       "       [75.64838 ],\n",
       "       [79.24356 ],\n",
       "       [82.838745],\n",
       "       [86.43393 ]], dtype=float32)"
      ]
     },
     "execution_count": 41,
     "metadata": {},
     "output_type": "execute_result"
    }
   ],
   "source": [
    "y_preds"
   ]
  },
  {
   "cell_type": "code",
   "execution_count": 42,
   "id": "b98ba0fb",
   "metadata": {},
   "outputs": [],
   "source": [
    "def plot_predictions(train_data=X_train, \n",
    "                     train_labels=y_train, \n",
    "                     test_data=X_test, \n",
    "                     test_labels=y_test, \n",
    "                     predictions=y_preds):\n",
    "  \"\"\"\n",
    "  Plots training data, test data and compares predictions.\n",
    "  \"\"\"\n",
    "  plt.figure(figsize=(10, 7))\n",
    "  # Plot training data in blue\n",
    "  plt.scatter(train_data, train_labels, c=\"b\", label=\"Training data\")\n",
    "  # Plot test data in green\n",
    "  plt.scatter(test_data, test_labels, c=\"g\", label=\"Testing data\")\n",
    "  # Plot the predictions in red (predictions were made on the test data)\n",
    "  plt.scatter(test_data, predictions, c=\"r\", label=\"Predictions\")\n",
    "  # Show the legend\n",
    "  plt.legend();"
   ]
  },
  {
   "cell_type": "code",
   "execution_count": 43,
   "id": "a0b3ef71",
   "metadata": {},
   "outputs": [
    {
     "data": {
      "image/png": "[encoded data removed]",
      "text/plain": [
       "<Figure size 1000x700 with 1 Axes>"
      ]
     },
     "metadata": {},
     "output_type": "display_data"
    }
   ],
   "source": [
    "plot_predictions(train_data=X_train,\n",
    "                 train_labels=y_train,\n",
    "                 test_data=X_test,\n",
    "                 test_labels=y_test,\n",
    "                 predictions=y_preds)"
   ]
  },
  {
   "cell_type": "markdown",
   "id": "b307e011",
   "metadata": {},
   "source": [
    "### Evaluating predictions\n",
    "Alongisde visualizations, evaulation metrics are your alternative best option for evaluating your model.\n",
    "\n",
    "Depending on the problem you're working on, different models have different evaluation metrics.\n",
    "\n",
    "Two of the main metrics used for regression problems are:\n",
    "\n",
    "* **Mean absolute error (MAE)** - the mean difference between each of the predictions.\n",
    "* **Mean squared error (MSE)** - the squared mean difference between of the predictions (use if larger errors are more detrimental than smaller errors).\n",
    "The lower each of these values, the better.\n",
    "\n",
    "You can also use `model.evaluate()` which will return the loss of the model as well as any metrics setup during the compile step."
   ]
  },
  {
   "cell_type": "code",
   "execution_count": 44,
   "id": "aceda64c",
   "metadata": {},
   "outputs": [
    {
     "name": "stdout",
     "output_type": "stream",
     "text": [
      "1/1 [==============================] - 0s 494ms/step - loss: 17.7444 - mae: 17.7444\n"
     ]
    },
    {
     "data": {
      "text/plain": [
       "[17.744400024414062, 17.744400024414062]"
      ]
     },
     "execution_count": 44,
     "metadata": {},
     "output_type": "execute_result"
    }
   ],
   "source": [
    "# Evaluate the model on the test set\n",
    "model.evaluate(X_test, y_test)"
   ]
  },
  {
   "cell_type": "code",
   "execution_count": 45,
   "id": "94aca22b",
   "metadata": {},
   "outputs": [
    {
     "data": {
      "text/plain": [
       "<tf.Tensor: shape=(10,), dtype=float32, numpy=\n",
       "array([33.92273  , 30.327545 , 26.73236  , 23.137177 , 19.541992 ,\n",
       "       16.357447 , 13.810974 , 11.9025755, 10.632251 , 10.       ],\n",
       "      dtype=float32)>"
      ]
     },
     "execution_count": 45,
     "metadata": {},
     "output_type": "execute_result"
    }
   ],
   "source": [
    "# Calculate the mean absolute error\n",
    "mae = tf.metrics.mean_absolute_error(y_true=y_test, \n",
    "                                     y_pred=y_preds)\n",
    "mae"
   ]
  },
  {
   "cell_type": "markdown",
   "id": "e8670adb",
   "metadata": {},
   "source": [
    "Huh? That's strange, MAE should be a single output.\n",
    "\n",
    "Instead, we get 10 values.\n",
    "\n",
    "This is because our y_test and y_preds tensors are different shapes."
   ]
  },
  {
   "cell_type": "code",
   "execution_count": 46,
   "id": "93242fc7",
   "metadata": {},
   "outputs": [
    {
     "data": {
      "text/plain": [
       "array([60, 64, 68, 72, 76, 80, 84, 88, 92, 96])"
      ]
     },
     "execution_count": 46,
     "metadata": {},
     "output_type": "execute_result"
    }
   ],
   "source": [
    "X_test"
   ]
  },
  {
   "cell_type": "code",
   "execution_count": 48,
   "id": "12556485",
   "metadata": {},
   "outputs": [
    {
     "data": {
      "text/plain": [
       "array([[54.07727 ],\n",
       "       [57.672455],\n",
       "       [61.26764 ],\n",
       "       [64.86282 ],\n",
       "       [68.45801 ],\n",
       "       [72.05319 ],\n",
       "       [75.64838 ],\n",
       "       [79.24356 ],\n",
       "       [82.838745],\n",
       "       [86.43393 ]], dtype=float32)"
      ]
     },
     "execution_count": 48,
     "metadata": {},
     "output_type": "execute_result"
    }
   ],
   "source": [
    "y_preds"
   ]
  },
  {
   "cell_type": "code",
   "execution_count": 49,
   "id": "756c56e5",
   "metadata": {},
   "outputs": [
    {
     "data": {
      "text/plain": [
       "((10,), (10, 1))"
      ]
     },
     "execution_count": 49,
     "metadata": {},
     "output_type": "execute_result"
    }
   ],
   "source": [
    "# Check the tensor shapes\n",
    "y_test.shape, y_preds.shape"
   ]
  },
  {
   "cell_type": "code",
   "execution_count": 50,
   "id": "8cc963a3",
   "metadata": {},
   "outputs": [
    {
     "data": {
      "text/plain": [
       "<tf.Tensor: shape=(10,), dtype=float32, numpy=\n",
       "array([54.07727 , 57.672455, 61.26764 , 64.86282 , 68.45801 , 72.05319 ,\n",
       "       75.64838 , 79.24356 , 82.838745, 86.43393 ], dtype=float32)>"
      ]
     },
     "execution_count": 50,
     "metadata": {},
     "output_type": "execute_result"
    }
   ],
   "source": [
    "tf.squeeze(y_preds)"
   ]
  },
  {
   "cell_type": "code",
   "execution_count": 52,
   "id": "79e466aa",
   "metadata": {},
   "outputs": [
    {
     "data": {
      "text/plain": [
       "((10,), (10,))"
      ]
     },
     "execution_count": 52,
     "metadata": {},
     "output_type": "execute_result"
    }
   ],
   "source": [
    "# Check the tensor shapes\n",
    "y_test.shape, y_preds.squeeze().shape"
   ]
  },
  {
   "cell_type": "code",
   "execution_count": 55,
   "id": "eea4019d",
   "metadata": {},
   "outputs": [
    {
     "data": {
      "text/plain": [
       "17.7444"
      ]
     },
     "execution_count": 55,
     "metadata": {},
     "output_type": "execute_result"
    }
   ],
   "source": [
    "# Calcuate the MAE\n",
    "mae = tf.metrics.mean_absolute_error(y_true=y_test, \n",
    "                                     y_pred=y_preds.squeeze()) # use squeeze() to make same shape\n",
    "mae.numpy()"
   ]
  },
  {
   "cell_type": "code",
   "execution_count": 56,
   "id": "c478dbd6",
   "metadata": {},
   "outputs": [
    {
     "data": {
      "text/plain": [
       "316.21573"
      ]
     },
     "execution_count": 56,
     "metadata": {},
     "output_type": "execute_result"
    }
   ],
   "source": [
    "# Calculate the MSE\n",
    "mse = tf.metrics.mean_squared_error(y_true=y_test,\n",
    "                                    y_pred=y_preds.squeeze())\n",
    "mse.numpy()"
   ]
  },
  {
   "cell_type": "markdown",
   "id": "3cb84189",
   "metadata": {},
   "source": [
    "Again, it's a good idea to functionize anything you think you might use over again (or find yourself using over and over again).\n",
    "\n",
    "Let's make functions for our evaluation metrics."
   ]
  },
  {
   "cell_type": "code",
   "execution_count": 58,
   "id": "1b5cd0a9",
   "metadata": {},
   "outputs": [],
   "source": [
    "def mae(y_test, y_pred):\n",
    "  \"\"\"\n",
    "  Calculuates mean absolute error between y_test and y_preds.\n",
    "  \"\"\"\n",
    "  return tf.metrics.mean_absolute_error(y_test,\n",
    "                                        y_pred)\n",
    "  \n",
    "def mse(y_test, y_pred):\n",
    "  \"\"\"\n",
    "  Calculates mean squared error between y_test and y_preds.\n",
    "  \"\"\"\n",
    "  return tf.metrics.mean_squared_error(y_test,\n",
    "                                       y_pred)"
   ]
  },
  {
   "cell_type": "markdown",
   "id": "d5a54d35",
   "metadata": {},
   "source": [
    "### Running experiments to improve our model\n",
    "\n",
    "After seeing the evaluation metrics and the predictions your model makes, it's likely you'll want to improve it.\n",
    "\n",
    "Again, there are many different ways you can do this, but 3 of the main ones are:\n",
    "\n",
    "1. **Get more data** - get more examples for your model to train on (more opportunities to learn patterns).\n",
    "2. **Make your model larger (use a more complex model)** - this might come in the form of more layers or more hidden units in each layer.\n",
    "3. **Train for longer** - give your model more of a chance to find the patterns in the data.\n",
    "\n",
    "Since we created our dataset, we could easily make more data but this isn't always the case when you're working with real-world datasets.\n",
    "\n",
    "So let's take a look at how we can improve our model using 2 and 3.\n",
    "\n",
    "To do so, we'll build 3 models and compare their results:\n",
    "\n",
    "1. `model_1` - same as original model, 1 layer, trained for 100 epochs.\n",
    "2. `model_2` - 2 layers, trained for 100 epochs.\n",
    "3. `model_3` - 2 layers, trained for 500 epochs.\n",
    "\n",
    "**Build** `model_1`"
   ]
  },
  {
   "cell_type": "code",
   "execution_count": 59,
   "id": "86d3d827",
   "metadata": {},
   "outputs": [
    {
     "name": "stdout",
     "output_type": "stream",
     "text": [
      "Epoch 1/100\n",
      "2/2 [==============================] - 1s 18ms/step - loss: 78.4253 - mae: 78.4253\n",
      "Epoch 2/100\n",
      "2/2 [==============================] - 0s 26ms/step - loss: 43.0603 - mae: 43.0603\n",
      "Epoch 3/100\n",
      "2/2 [==============================] - 0s 15ms/step - loss: 10.6586 - mae: 10.6586\n",
      "Epoch 4/100\n",
      "2/2 [==============================] - 0s 18ms/step - loss: 9.6068 - mae: 9.6068\n",
      "Epoch 5/100\n",
      "2/2 [==============================] - 0s 15ms/step - loss: 10.5179 - mae: 10.5179\n",
      "Epoch 6/100\n",
      "2/2 [==============================] - 0s 71ms/step - loss: 9.7419 - mae: 9.7419\n",
      "Epoch 7/100\n",
      "2/2 [==============================] - 0s 21ms/step - loss: 8.8339 - mae: 8.8339\n",
      "Epoch 8/100\n",
      "2/2 [==============================] - 0s 20ms/step - loss: 9.0879 - mae: 9.0879\n",
      "Epoch 9/100\n",
      "2/2 [==============================] - 0s 20ms/step - loss: 19.3694 - mae: 19.3694\n",
      "Epoch 10/100\n",
      "2/2 [==============================] - 0s 63ms/step - loss: 10.4739 - mae: 10.4739\n",
      "Epoch 11/100\n",
      "2/2 [==============================] - 0s 27ms/step - loss: 8.5516 - mae: 8.5516\n",
      "Epoch 12/100\n",
      "2/2 [==============================] - 0s 25ms/step - loss: 10.9676 - mae: 10.9676\n",
      "Epoch 13/100\n",
      "2/2 [==============================] - 0s 27ms/step - loss: 7.5873 - mae: 7.5873\n",
      "Epoch 14/100\n",
      "2/2 [==============================] - 0s 12ms/step - loss: 16.0145 - mae: 16.0145\n",
      "Epoch 15/100\n",
      "2/2 [==============================] - 0s 11ms/step - loss: 13.0955 - mae: 13.0955\n",
      "Epoch 16/100\n",
      "2/2 [==============================] - 0s 12ms/step - loss: 7.9569 - mae: 7.9569\n",
      "Epoch 17/100\n",
      "2/2 [==============================] - 0s 15ms/step - loss: 11.2980 - mae: 11.2980\n",
      "Epoch 18/100\n",
      "2/2 [==============================] - 0s 10ms/step - loss: 10.2659 - mae: 10.2659\n",
      "Epoch 19/100\n",
      "2/2 [==============================] - 0s 32ms/step - loss: 19.5411 - mae: 19.5411\n",
      "Epoch 20/100\n",
      "2/2 [==============================] - 0s 8ms/step - loss: 16.1945 - mae: 16.1945\n",
      "Epoch 21/100\n",
      "2/2 [==============================] - 0s 91ms/step - loss: 12.0938 - mae: 12.0938\n",
      "Epoch 22/100\n",
      "2/2 [==============================] - 0s 16ms/step - loss: 8.6952 - mae: 8.6952\n",
      "Epoch 23/100\n",
      "2/2 [==============================] - 0s 22ms/step - loss: 9.6765 - mae: 9.6765\n",
      "Epoch 24/100\n",
      "2/2 [==============================] - 0s 34ms/step - loss: 8.5934 - mae: 8.5934\n",
      "Epoch 25/100\n",
      "2/2 [==============================] - 0s 22ms/step - loss: 11.5649 - mae: 11.5649\n",
      "Epoch 26/100\n",
      "2/2 [==============================] - 0s 16ms/step - loss: 15.2083 - mae: 15.2083\n",
      "Epoch 27/100\n",
      "2/2 [==============================] - 0s 27ms/step - loss: 12.0903 - mae: 12.0903\n",
      "Epoch 28/100\n",
      "2/2 [==============================] - 0s 13ms/step - loss: 13.3907 - mae: 13.3907\n",
      "Epoch 29/100\n",
      "2/2 [==============================] - 0s 12ms/step - loss: 9.6254 - mae: 9.6254\n",
      "Epoch 30/100\n",
      "2/2 [==============================] - 0s 22ms/step - loss: 17.1869 - mae: 17.1869\n",
      "Epoch 31/100\n",
      "2/2 [==============================] - 0s 24ms/step - loss: 22.8896 - mae: 22.8896\n",
      "Epoch 32/100\n",
      "2/2 [==============================] - 0s 26ms/step - loss: 7.9355 - mae: 7.9355\n",
      "Epoch 33/100\n",
      "2/2 [==============================] - 0s 28ms/step - loss: 14.1414 - mae: 14.1414\n",
      "Epoch 34/100\n",
      "2/2 [==============================] - 0s 134ms/step - loss: 12.3866 - mae: 12.3866\n",
      "Epoch 35/100\n",
      "2/2 [==============================] - 0s 26ms/step - loss: 8.2818 - mae: 8.2818\n",
      "Epoch 36/100\n",
      "2/2 [==============================] - 0s 16ms/step - loss: 10.5043 - mae: 10.5043\n",
      "Epoch 37/100\n",
      "2/2 [==============================] - 0s 11ms/step - loss: 10.1485 - mae: 10.1485\n",
      "Epoch 38/100\n",
      "2/2 [==============================] - 0s 27ms/step - loss: 11.3453 - mae: 11.3453\n",
      "Epoch 39/100\n",
      "2/2 [==============================] - 0s 16ms/step - loss: 14.7651 - mae: 14.7651\n",
      "Epoch 40/100\n",
      "2/2 [==============================] - 0s 15ms/step - loss: 12.8954 - mae: 12.8954\n",
      "Epoch 41/100\n",
      "2/2 [==============================] - 0s 13ms/step - loss: 9.2854 - mae: 9.2854\n",
      "Epoch 42/100\n",
      "2/2 [==============================] - 0s 19ms/step - loss: 11.0257 - mae: 11.0257\n",
      "Epoch 43/100\n",
      "2/2 [==============================] - 0s 15ms/step - loss: 8.3525 - mae: 8.3525\n",
      "Epoch 44/100\n",
      "2/2 [==============================] - 0s 13ms/step - loss: 13.0662 - mae: 13.0662\n",
      "Epoch 45/100\n",
      "2/2 [==============================] - 0s 21ms/step - loss: 13.6850 - mae: 13.6850\n",
      "Epoch 46/100\n",
      "2/2 [==============================] - 0s 28ms/step - loss: 8.3017 - mae: 8.3017\n",
      "Epoch 47/100\n",
      "2/2 [==============================] - 0s 18ms/step - loss: 8.7447 - mae: 8.7447\n",
      "Epoch 48/100\n",
      "2/2 [==============================] - 0s 21ms/step - loss: 10.0455 - mae: 10.0455\n",
      "Epoch 49/100\n",
      "2/2 [==============================] - 0s 20ms/step - loss: 8.5295 - mae: 8.5295\n",
      "Epoch 50/100\n",
      "2/2 [==============================] - 0s 18ms/step - loss: 9.0346 - mae: 9.0346\n",
      "Epoch 51/100\n",
      "2/2 [==============================] - 0s 21ms/step - loss: 9.3931 - mae: 9.3931\n",
      "Epoch 52/100\n",
      "2/2 [==============================] - 0s 20ms/step - loss: 14.1839 - mae: 14.1839\n",
      "Epoch 53/100\n",
      "2/2 [==============================] - 0s 18ms/step - loss: 14.8962 - mae: 14.8962\n",
      "Epoch 54/100\n",
      "2/2 [==============================] - 0s 21ms/step - loss: 14.8342 - mae: 14.8342\n",
      "Epoch 55/100\n",
      "2/2 [==============================] - 0s 16ms/step - loss: 12.6172 - mae: 12.6172\n",
      "Epoch 56/100\n",
      "2/2 [==============================] - 0s 114ms/step - loss: 7.6107 - mae: 7.6107\n",
      "Epoch 57/100\n",
      "2/2 [==============================] - 0s 19ms/step - loss: 8.8106 - mae: 8.8106\n",
      "Epoch 58/100\n",
      "2/2 [==============================] - 0s 39ms/step - loss: 8.3982 - mae: 8.3982\n",
      "Epoch 59/100\n",
      "2/2 [==============================] - 0s 20ms/step - loss: 9.1943 - mae: 9.1943\n",
      "Epoch 60/100\n",
      "2/2 [==============================] - 0s 15ms/step - loss: 9.1375 - mae: 9.1375\n",
      "Epoch 61/100\n",
      "2/2 [==============================] - 0s 17ms/step - loss: 10.6775 - mae: 10.6775\n",
      "Epoch 62/100\n",
      "2/2 [==============================] - 0s 16ms/step - loss: 7.4548 - mae: 7.4548\n",
      "Epoch 63/100\n",
      "2/2 [==============================] - 0s 196ms/step - loss: 10.5446 - mae: 10.5446\n",
      "Epoch 64/100\n",
      "2/2 [==============================] - 0s 16ms/step - loss: 12.1493 - mae: 12.1493\n",
      "Epoch 65/100\n",
      "2/2 [==============================] - 0s 96ms/step - loss: 9.4759 - mae: 9.4759\n",
      "Epoch 66/100\n",
      "2/2 [==============================] - 0s 15ms/step - loss: 11.5550 - mae: 11.5550\n",
      "Epoch 67/100\n",
      "2/2 [==============================] - 0s 286ms/step - loss: 8.0426 - mae: 8.0426\n",
      "Epoch 68/100\n",
      "2/2 [==============================] - 0s 15ms/step - loss: 8.5755 - mae: 8.5755\n",
      "Epoch 69/100\n",
      "2/2 [==============================] - 0s 57ms/step - loss: 12.2442 - mae: 12.2442\n",
      "Epoch 70/100\n",
      "2/2 [==============================] - 0s 25ms/step - loss: 8.9606 - mae: 8.9606\n",
      "Epoch 71/100\n",
      "2/2 [==============================] - 0s 30ms/step - loss: 9.9338 - mae: 9.9338\n",
      "Epoch 72/100\n",
      "2/2 [==============================] - 0s 17ms/step - loss: 9.9762 - mae: 9.9762\n",
      "Epoch 73/100\n",
      "2/2 [==============================] - 0s 11ms/step - loss: 12.4285 - mae: 12.4285\n",
      "Epoch 74/100\n",
      "2/2 [==============================] - 0s 40ms/step - loss: 10.6166 - mae: 10.6166\n",
      "Epoch 75/100\n",
      "2/2 [==============================] - 0s 16ms/step - loss: 9.6328 - mae: 9.6328\n",
      "Epoch 76/100\n",
      "2/2 [==============================] - 0s 51ms/step - loss: 11.0942 - mae: 11.0942\n",
      "Epoch 77/100\n",
      "2/2 [==============================] - 0s 35ms/step - loss: 8.2815 - mae: 8.2815\n",
      "Epoch 78/100\n",
      "2/2 [==============================] - 0s 22ms/step - loss: 8.9629 - mae: 8.9629\n",
      "Epoch 79/100\n",
      "2/2 [==============================] - 0s 44ms/step - loss: 19.8387 - mae: 19.8387\n",
      "Epoch 80/100\n",
      "2/2 [==============================] - 0s 13ms/step - loss: 17.7931 - mae: 17.7931\n",
      "Epoch 81/100\n",
      "2/2 [==============================] - 0s 26ms/step - loss: 7.1109 - mae: 7.1109\n",
      "Epoch 82/100\n",
      "2/2 [==============================] - 0s 18ms/step - loss: 10.4082 - mae: 10.4082\n",
      "Epoch 83/100\n",
      "2/2 [==============================] - 0s 16ms/step - loss: 9.8278 - mae: 9.8278\n",
      "Epoch 84/100\n",
      "2/2 [==============================] - 0s 15ms/step - loss: 7.9634 - mae: 7.9634\n",
      "Epoch 85/100\n",
      "2/2 [==============================] - 0s 16ms/step - loss: 9.4781 - mae: 9.4781\n",
      "Epoch 86/100\n",
      "2/2 [==============================] - 0s 8ms/step - loss: 9.5197 - mae: 9.5197\n",
      "Epoch 87/100\n"
     ]
    },
    {
     "name": "stdout",
     "output_type": "stream",
     "text": [
      "2/2 [==============================] - 0s 13ms/step - loss: 11.4693 - mae: 11.4693\n",
      "Epoch 88/100\n",
      "2/2 [==============================] - 0s 15ms/step - loss: 9.9692 - mae: 9.9692\n",
      "Epoch 89/100\n",
      "2/2 [==============================] - 0s 10ms/step - loss: 7.2706 - mae: 7.2706\n",
      "Epoch 90/100\n",
      "2/2 [==============================] - 0s 15ms/step - loss: 12.7325 - mae: 12.7325\n",
      "Epoch 91/100\n",
      "2/2 [==============================] - 0s 13ms/step - loss: 7.3369 - mae: 7.3369\n",
      "Epoch 92/100\n",
      "2/2 [==============================] - 0s 15ms/step - loss: 7.7026 - mae: 7.7026\n",
      "Epoch 93/100\n",
      "2/2 [==============================] - 0s 14ms/step - loss: 7.1349 - mae: 7.1349\n",
      "Epoch 94/100\n",
      "2/2 [==============================] - 0s 9ms/step - loss: 12.5783 - mae: 12.5783\n",
      "Epoch 95/100\n",
      "2/2 [==============================] - 0s 15ms/step - loss: 9.9552 - mae: 9.9552\n",
      "Epoch 96/100\n",
      "2/2 [==============================] - 0s 15ms/step - loss: 9.1481 - mae: 9.1481\n",
      "Epoch 97/100\n",
      "2/2 [==============================] - 0s 9ms/step - loss: 12.0787 - mae: 12.0787\n",
      "Epoch 98/100\n",
      "2/2 [==============================] - 0s 12ms/step - loss: 9.1003 - mae: 9.1003\n",
      "Epoch 99/100\n",
      "2/2 [==============================] - 0s 9ms/step - loss: 8.5078 - mae: 8.5078\n",
      "Epoch 100/100\n",
      "2/2 [==============================] - 0s 13ms/step - loss: 14.4413 - mae: 14.4413\n"
     ]
    },
    {
     "data": {
      "text/plain": [
       "<keras.callbacks.History at 0x13aa697c6d0>"
      ]
     },
     "execution_count": 59,
     "metadata": {},
     "output_type": "execute_result"
    }
   ],
   "source": [
    "# Set random seed\n",
    "tf.random.set_seed(42)\n",
    "\n",
    "# Replicate original model\n",
    "model_1 = tf.keras.Sequential([\n",
    "  tf.keras.layers.Dense(1)\n",
    "])\n",
    "\n",
    "# Compile the model\n",
    "model_1.compile(loss=tf.keras.losses.mae,\n",
    "                optimizer=tf.keras.optimizers.SGD(),\n",
    "                metrics=['mae'])\n",
    "\n",
    "# Fit the model\n",
    "model_1.fit(tf.expand_dims(X_train, axis=-1), y_train, epochs=100)"
   ]
  },
  {
   "cell_type": "code",
   "execution_count": 60,
   "id": "58222fb9",
   "metadata": {},
   "outputs": [
    {
     "name": "stdout",
     "output_type": "stream",
     "text": [
      "WARNING:tensorflow:6 out of the last 6 calls to <function Model.make_predict_function.<locals>.predict_function at 0x0000013AA406D160> triggered tf.function retracing. Tracing is expensive and the excessive number of tracings could be due to (1) creating @tf.function repeatedly in a loop, (2) passing tensors with different shapes, (3) passing Python objects instead of tensors. For (1), please define your @tf.function outside of the loop. For (2), @tf.function has reduce_retracing=True option that can avoid unnecessary retracing. For (3), please refer to https://www.tensorflow.org/guide/function#controlling_retracing and https://www.tensorflow.org/api_docs/python/tf/function for  more details.\n",
      "1/1 [==============================] - 0s 186ms/step\n"
     ]
    },
    {
     "data": {
      "image/png": "[encoded data removed]",
      "text/plain": [
       "<Figure size 1000x700 with 1 Axes>"
      ]
     },
     "metadata": {},
     "output_type": "display_data"
    }
   ],
   "source": [
    "# Make and plot predictions for model_1\n",
    "y_preds_1 = model_1.predict(X_test)\n",
    "plot_predictions(predictions=y_preds_1)"
   ]
  },
  {
   "cell_type": "code",
   "execution_count": 61,
   "id": "c78b0b73",
   "metadata": {},
   "outputs": [
    {
     "data": {
      "text/plain": [
       "(30.706985, 953.40515)"
      ]
     },
     "execution_count": 61,
     "metadata": {},
     "output_type": "execute_result"
    }
   ],
   "source": [
    "# Calculate model_1 metrics\n",
    "mae_1 = mae(y_test, y_preds_1.squeeze()).numpy()\n",
    "mse_1 = mse(y_test, y_preds_1.squeeze()).numpy()\n",
    "mae_1, mse_1"
   ]
  },
  {
   "cell_type": "markdown",
   "id": "fef8af43",
   "metadata": {},
   "source": [
    "**Build** `Model 2`"
   ]
  },
  {
   "cell_type": "code",
   "execution_count": 62,
   "id": "729924e6",
   "metadata": {},
   "outputs": [
    {
     "data": {
      "text/plain": [
       "<keras.callbacks.History at 0x13aa6f00f70>"
      ]
     },
     "execution_count": 62,
     "metadata": {},
     "output_type": "execute_result"
    }
   ],
   "source": [
    "# Set random seed\n",
    "tf.random.set_seed(42)\n",
    "\n",
    "# Replicate model_1 and add an extra layer\n",
    "model_2 = tf.keras.Sequential([\n",
    "  tf.keras.layers.Dense(1),\n",
    "  tf.keras.layers.Dense(1) # add a second layer\n",
    "])\n",
    "\n",
    "# Compile the model\n",
    "model_2.compile(loss=tf.keras.losses.mae,\n",
    "                optimizer=tf.keras.optimizers.SGD(),\n",
    "                metrics=['mae'])\n",
    "\n",
    "# Fit the model\n",
    "model_2.fit(tf.expand_dims(X_train, axis=-1), y_train, epochs=100, verbose=0)"
   ]
  },
  {
   "cell_type": "code",
   "execution_count": 63,
   "id": "eaae3a49",
   "metadata": {},
   "outputs": [
    {
     "name": "stdout",
     "output_type": "stream",
     "text": [
      "1/1 [==============================] - 0s 197ms/step\n"
     ]
    },
    {
     "data": {
      "image/png": "[encoded data removed]",
      "text/plain": [
       "<Figure size 1000x700 with 1 Axes>"
      ]
     },
     "metadata": {},
     "output_type": "display_data"
    }
   ],
   "source": [
    "# Make and plot predictions for model_2\n",
    "y_preds_2 = model_2.predict(X_test)\n",
    "plot_predictions(predictions=y_preds_2)"
   ]
  },
  {
   "cell_type": "code",
   "execution_count": 64,
   "id": "632a3963",
   "metadata": {},
   "outputs": [
    {
     "data": {
      "text/plain": [
       "(3.0869567, 12.323615)"
      ]
     },
     "execution_count": 64,
     "metadata": {},
     "output_type": "execute_result"
    }
   ],
   "source": [
    "# Calculate model_2 metrics\n",
    "mae_2 = mae(y_test, y_preds_2.squeeze()).numpy()\n",
    "mse_2 = mse(y_test, y_preds_2.squeeze()).numpy()\n",
    "mae_2, mse_2"
   ]
  },
  {
   "cell_type": "markdown",
   "id": "7c361834",
   "metadata": {},
   "source": [
    "**Build** `Model 3`"
   ]
  },
  {
   "cell_type": "code",
   "execution_count": 65,
   "id": "0ac29783",
   "metadata": {},
   "outputs": [
    {
     "data": {
      "text/plain": [
       "<keras.callbacks.History at 0x13aa728dfd0>"
      ]
     },
     "execution_count": 65,
     "metadata": {},
     "output_type": "execute_result"
    }
   ],
   "source": [
    "# Set random seed\n",
    "tf.random.set_seed(42)\n",
    "\n",
    "# Replicate model_2\n",
    "model_3 = tf.keras.Sequential([\n",
    "  tf.keras.layers.Dense(1),\n",
    "  tf.keras.layers.Dense(1)\n",
    "])\n",
    "\n",
    "# Compile the model\n",
    "model_3.compile(loss=tf.keras.losses.mae,\n",
    "                optimizer=tf.keras.optimizers.SGD(),\n",
    "                metrics=['mae'])\n",
    "\n",
    "# Fit the model (this time for 500 epochs, not 100)\n",
    "model_3.fit(tf.expand_dims(X_train, axis=-1), y_train, epochs=500, verbose=0) # set verbose to 0 for less output"
   ]
  },
  {
   "cell_type": "code",
   "execution_count": 66,
   "id": "794675a9",
   "metadata": {},
   "outputs": [
    {
     "name": "stdout",
     "output_type": "stream",
     "text": [
      "1/1 [==============================] - 0s 166ms/step\n"
     ]
    },
    {
     "data": {
      "image/png": "[encoded data removed]",
      "text/plain": [
       "<Figure size 1000x700 with 1 Axes>"
      ]
     },
     "metadata": {},
     "output_type": "display_data"
    }
   ],
   "source": [
    "# Make and plot predictions for model_3\n",
    "y_preds_3 = model_3.predict(X_test)\n",
    "plot_predictions(predictions=y_preds_3)"
   ]
  },
  {
   "cell_type": "code",
   "execution_count": 67,
   "id": "4ccf9e10",
   "metadata": {},
   "outputs": [
    {
     "data": {
      "text/plain": [
       "(66.49955, 4503.3706)"
      ]
     },
     "execution_count": 67,
     "metadata": {},
     "output_type": "execute_result"
    }
   ],
   "source": [
    "# Calculate model_3 metrics\n",
    "mae_3 = mae(y_test, y_preds_3.squeeze()).numpy()\n",
    "mse_3 = mse(y_test, y_preds_3.squeeze()).numpy()\n",
    "mae_3, mse_3\n",
    "     "
   ]
  },
  {
   "cell_type": "markdown",
   "id": "23e6b81f",
   "metadata": {},
   "source": [
    "## Comparing results"
   ]
  },
  {
   "cell_type": "code",
   "execution_count": 68,
   "id": "12b055ab",
   "metadata": {},
   "outputs": [],
   "source": [
    "\n",
    "model_results = [[\"model_1\", mae_1, mse_1],\n",
    "                 [\"model_2\", mae_2, mse_2],\n",
    "                 [\"model_3\", mae_3, mae_3]]"
   ]
  },
  {
   "cell_type": "code",
   "execution_count": 69,
   "id": "76d883c3",
   "metadata": {},
   "outputs": [
    {
     "data": {
      "text/html": [
       "<div>\n",
       "<style scoped>\n",
       "    .dataframe tbody tr th:only-of-type {\n",
       "        vertical-align: middle;\n",
       "    }\n",
       "\n",
       "    .dataframe tbody tr th {\n",
       "        vertical-align: top;\n",
       "    }\n",
       "\n",
       "    .dataframe thead th {\n",
       "        text-align: right;\n",
       "    }\n",
       "</style>\n",
       "<table border=\"1\" class=\"dataframe\">\n",
       "  <thead>\n",
       "    <tr style=\"text-align: right;\">\n",
       "      <th></th>\n",
       "      <th>model</th>\n",
       "      <th>mae</th>\n",
       "      <th>mse</th>\n",
       "    </tr>\n",
       "  </thead>\n",
       "  <tbody>\n",
       "    <tr>\n",
       "      <th>0</th>\n",
       "      <td>model_1</td>\n",
       "      <td>30.706985</td>\n",
       "      <td>953.405151</td>\n",
       "    </tr>\n",
       "    <tr>\n",
       "      <th>1</th>\n",
       "      <td>model_2</td>\n",
       "      <td>3.086957</td>\n",
       "      <td>12.323615</td>\n",
       "    </tr>\n",
       "    <tr>\n",
       "      <th>2</th>\n",
       "      <td>model_3</td>\n",
       "      <td>66.499550</td>\n",
       "      <td>66.499550</td>\n",
       "    </tr>\n",
       "  </tbody>\n",
       "</table>\n",
       "</div>"
      ],
      "text/plain": [
       "     model        mae         mse\n",
       "0  model_1  30.706985  953.405151\n",
       "1  model_2   3.086957   12.323615\n",
       "2  model_3  66.499550   66.499550"
      ]
     },
     "execution_count": 69,
     "metadata": {},
     "output_type": "execute_result"
    }
   ],
   "source": [
    "import pandas as pd\n",
    "all_results = pd.DataFrame(model_results, columns=[\"model\", \"mae\", \"mse\"])\n",
    "all_results"
   ]
  },
  {
   "cell_type": "markdown",
   "id": "d87c0255",
   "metadata": {},
   "source": [
    "### Tracking your experiments\n",
    "\n",
    "* **TensorBoard** - a component of the TensorFlow library to help track modelling experiments (we'll see this later).\n",
    "* **Weights & Biases** - a tool for tracking all kinds of machine learning experiments (the good news for Weights & Biases is it plugs into TensorBoard)."
   ]
  },
  {
   "cell_type": "markdown",
   "id": "510614a6",
   "metadata": {},
   "source": [
    "### Saving a model\n",
    "Once you've trained a model and found one which performs to your liking, you'll probably want to save it for use elsewhere (like a web application or mobile device).\n",
    "\n",
    "You can save a TensorFlow/Keras model using model.save().\n",
    "\n",
    "There are two ways to save a model in TensorFlow:\n",
    "\n",
    "- The SavedModel format (default).\n",
    "- The HDF5 format.\n",
    "The main difference between the two is the SavedModel is automatically able to save custom objects (such as special layers) without additional modifications when loading the model back in.\n",
    "\n",
    "Which one should you use?\n",
    "\n",
    "It depends on your situation but the SavedModel format will suffice most of the time.\n",
    "\n",
    "Both methods use the same method call."
   ]
  },
  {
   "cell_type": "code",
   "execution_count": 70,
   "id": "6cebe632",
   "metadata": {},
   "outputs": [
    {
     "name": "stderr",
     "output_type": "stream",
     "text": [
      "WARNING:absl:Found untraced functions such as _update_step_xla while saving (showing 1 of 1). These functions will not be directly callable after loading.\n"
     ]
    },
    {
     "name": "stdout",
     "output_type": "stream",
     "text": [
      "INFO:tensorflow:Assets written to: best_model_SavedModel_format\\assets\n"
     ]
    },
    {
     "name": "stderr",
     "output_type": "stream",
     "text": [
      "INFO:tensorflow:Assets written to: best_model_SavedModel_format\\assets\n"
     ]
    }
   ],
   "source": [
    "# Save a model using the SavedModel format\n",
    "model_2.save('best_model_SavedModel_format')"
   ]
  },
  {
   "cell_type": "code",
   "execution_count": 72,
   "id": "9930152a",
   "metadata": {},
   "outputs": [
    {
     "name": "stdout",
     "output_type": "stream",
     "text": [
      " Volume in drive C has no label.\n",
      " Volume Serial Number is 80C8-EDA2\n",
      "\n",
      " Directory of C:\\Users\\Bolaji\\Desktop\\Tensorflow Developer Certificate\\tensorflow_fundamentals\\best_model_SavedModel_format\n",
      "\n",
      "02/17/2023  09:38 PM    <DIR>          .\n",
      "02/17/2023  09:38 PM    <DIR>          ..\n",
      "02/17/2023  09:38 PM    <DIR>          assets\n",
      "02/17/2023  09:38 PM                55 fingerprint.pb\n",
      "02/17/2023  09:38 PM             6,306 keras_metadata.pb\n",
      "02/17/2023  09:38 PM            62,363 saved_model.pb\n",
      "02/17/2023  09:38 PM    <DIR>          variables\n",
      "               3 File(s)         68,724 bytes\n",
      "               4 Dir(s)  25,415,905,280 bytes free\n"
     ]
    }
   ],
   "source": [
    "# Check it out - outputs a protobuf binary file (.pb) as well as other files\n",
    "!dir best_model_SavedModel_format"
   ]
  },
  {
   "cell_type": "code",
   "execution_count": 73,
   "id": "1b3a74be",
   "metadata": {},
   "outputs": [],
   "source": [
    "# Save a model using the HDF5 format\n",
    "model_2.save(\"best_model_HDF5_format.h5\") # note the addition of '.h5' on the end"
   ]
  },
  {
   "cell_type": "code",
   "execution_count": 74,
   "id": "9de75526",
   "metadata": {},
   "outputs": [
    {
     "name": "stdout",
     "output_type": "stream",
     "text": [
      " Volume in drive C has no label.\n",
      " Volume Serial Number is 80C8-EDA2\n",
      "\n",
      " Directory of C:\\Users\\Bolaji\\Desktop\\Tensorflow Developer Certificate\\tensorflow_fundamentals\n",
      "\n",
      "02/17/2023  09:41 PM            21,952 best_model_HDF5_format.h5\n",
      "               1 File(s)         21,952 bytes\n",
      "               0 Dir(s)  25,414,225,920 bytes free\n"
     ]
    }
   ],
   "source": [
    "# Check it out\n",
    "!dir best_model_HDF5_format.h5"
   ]
  },
  {
   "cell_type": "markdown",
   "id": "b0a1f307",
   "metadata": {},
   "source": [
    "### Loading a model\n",
    "We can load a saved model using the `load_model()` method.\n",
    "\n",
    "Loading a model for the different formats (SavedModel and HDF5) is the same (as long as the pathnames to the particular formats are correct)."
   ]
  },
  {
   "cell_type": "code",
   "execution_count": 75,
   "id": "42418d64",
   "metadata": {},
   "outputs": [
    {
     "name": "stdout",
     "output_type": "stream",
     "text": [
      "Model: \"sequential_7\"\n",
      "_________________________________________________________________\n",
      " Layer (type)                Output Shape              Param #   \n",
      "=================================================================\n",
      " dense_8 (Dense)             (None, 1)                 2         \n",
      "                                                                 \n",
      " dense_9 (Dense)             (None, 1)                 2         \n",
      "                                                                 \n",
      "=================================================================\n",
      "Total params: 4\n",
      "Trainable params: 4\n",
      "Non-trainable params: 0\n",
      "_________________________________________________________________\n"
     ]
    }
   ],
   "source": [
    "# Load a model from the SavedModel format\n",
    "loaded_saved_model = tf.keras.models.load_model(\"best_model_SavedModel_format\")\n",
    "loaded_saved_model.summary()"
   ]
  },
  {
   "cell_type": "code",
   "execution_count": 78,
   "id": "d851f905",
   "metadata": {},
   "outputs": [
    {
     "name": "stdout",
     "output_type": "stream",
     "text": [
      "1/1 [==============================] - 0s 107ms/step\n",
      "1/1 [==============================] - 0s 95ms/step\n"
     ]
    },
    {
     "data": {
      "text/plain": [
       "True"
      ]
     },
     "execution_count": 78,
     "metadata": {},
     "output_type": "execute_result"
    }
   ],
   "source": [
    "# Compare model_2 with the SavedModel version (should return True)\n",
    "model_2_preds = model_2.predict(X_test)\n",
    "saved_model_preds = loaded_saved_model.predict(X_test)\n",
    "mae(y_test, saved_model_preds.squeeze()).numpy() == mae(y_test, model_2_preds.squeeze()).numpy()"
   ]
  },
  {
   "cell_type": "markdown",
   "id": "5dd48b07",
   "metadata": {},
   "source": [
    "Loading in from the HDF5 is much the same."
   ]
  },
  {
   "cell_type": "code",
   "execution_count": 79,
   "id": "c6dd63a7",
   "metadata": {},
   "outputs": [
    {
     "name": "stdout",
     "output_type": "stream",
     "text": [
      "Model: \"sequential_7\"\n",
      "_________________________________________________________________\n",
      " Layer (type)                Output Shape              Param #   \n",
      "=================================================================\n",
      " dense_8 (Dense)             (None, 1)                 2         \n",
      "                                                                 \n",
      " dense_9 (Dense)             (None, 1)                 2         \n",
      "                                                                 \n",
      "=================================================================\n",
      "Total params: 4\n",
      "Trainable params: 4\n",
      "Non-trainable params: 0\n",
      "_________________________________________________________________\n"
     ]
    }
   ],
   "source": [
    "# Load a model from the HDF5 format\n",
    "loaded_h5_model = tf.keras.models.load_model(\"best_model_HDF5_format.h5\")\n",
    "loaded_h5_model.summary()"
   ]
  },
  {
   "cell_type": "code",
   "execution_count": 80,
   "id": "ad8b1e02",
   "metadata": {},
   "outputs": [
    {
     "name": "stdout",
     "output_type": "stream",
     "text": [
      "1/1 [==============================] - 0s 225ms/step\n"
     ]
    },
    {
     "data": {
      "text/plain": [
       "True"
      ]
     },
     "execution_count": 80,
     "metadata": {},
     "output_type": "execute_result"
    }
   ],
   "source": [
    "# Compare model_2 with the loaded HDF5 version (should return True)\n",
    "h5_model_preds = loaded_h5_model.predict(X_test)\n",
    "mae(y_test, h5_model_preds.squeeze()).numpy() == mae(y_test, model_2_preds.squeeze()).numpy()"
   ]
  },
  {
   "cell_type": "code",
   "execution_count": null,
   "id": "16bfd247",
   "metadata": {},
   "outputs": [],
   "source": []
  }
 ],
 "metadata": {
  "kernelspec": {
   "display_name": "Python 3 (ipykernel)",
   "language": "python",
   "name": "python3"
  },
  "language_info": {
   "codemirror_mode": {
    "name": "ipython",
    "version": 3
   },
   "file_extension": ".py",
   "mimetype": "text/x-python",
   "name": "python",
   "nbconvert_exporter": "python",
   "pygments_lexer": "ipython3",
   "version": "3.9.13"
  }
 },
 "nbformat": 4,
 "nbformat_minor": 5
}
