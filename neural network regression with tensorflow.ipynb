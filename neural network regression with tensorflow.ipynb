{
 "cells": [
  {
   "cell_type": "markdown",
   "id": "560d4243",
   "metadata": {},
   "source": [
    "# Introduction to regression with neural network using tensorflow\n",
    "\n",
    "There are many definitions for a regression problem but in our case, we're going to simplify it to be: predicting a number.\n",
    "\n",
    "For example, you might want to:\n",
    "\n",
    "* Predict the selling price of houses given information about them (such as number of rooms, size, number of bathrooms).\n",
    "* Predict the coordinates of a bounding box of an item in an image.\n",
    "* Predict the cost of medical insurance for an individual given their demographics (age, sex, gender, race).\n",
    "\n",
    "In this notebook, we're going to set the foundations for how you can take a sample of inputs (this is your data), build a neural network to discover patterns in those inputs and then make a prediction (in the form of a number) based on those inputs."
   ]
  },
  {
   "cell_type": "markdown",
   "id": "1c607c35",
   "metadata": {},
   "source": [
    "## What we're going to cover\n",
    "Specifically, we're going to go through doing the following with TensorFlow:\n",
    "\n",
    "* Architecture of a regression model\n",
    "* Input shapes and output shapes\n",
    "  * X: features/data (inputs)\n",
    "  * y: labels (outputs)\n",
    "* Creating custom data to view and fit\n",
    "* Steps in modelling\n",
    "  * Creating a model\n",
    "  * Compiling a model\n",
    "    * Defining a loss function\n",
    "    * Setting up an optimizer\n",
    "    * Creating evaluation metrics\n",
    "  * Fitting a model (getting it to find patterns in our data)\n",
    "* Evaluating a model\n",
    "  * Visualizng the model (\"visualize, visualize, visualize\")\n",
    "  * Looking at training curves\n",
    "  * Compare predictions to ground truth (using our evaluation metrics)\n",
    "* Saving a model (so we can use it later)\n",
    "* Loading a model"
   ]
  },
  {
   "cell_type": "code",
   "execution_count": 1,
   "id": "299ecb9d",
   "metadata": {},
   "outputs": [
    {
     "name": "stdout",
     "output_type": "stream",
     "text": [
      "2.11.0\n"
     ]
    }
   ],
   "source": [
    "import tensorflow as tf\n",
    "print(tf.__version__)"
   ]
  },
  {
   "cell_type": "markdown",
   "id": "d8bb9f7f",
   "metadata": {},
   "source": [
    "## Creating data view and fit"
   ]
  },
  {
   "cell_type": "code",
   "execution_count": 2,
   "id": "d543913f",
   "metadata": {},
   "outputs": [],
   "source": [
    "import numpy as np \n",
    "import matplotlib.pyplot as plt"
   ]
  },
  {
   "cell_type": "code",
   "execution_count": 3,
   "id": "52839308",
   "metadata": {},
   "outputs": [
    {
     "data": {
      "image/png": "[encoded data removed]",
      "text/plain": [
       "<Figure size 640x480 with 1 Axes>"
      ]
     },
     "metadata": {},
     "output_type": "display_data"
    }
   ],
   "source": [
    "# Create features\n",
    "X = np.array([-7.0, -4.0, -1.0, 2.0, 5.0, 8.0, 11.0, 14.0])\n",
    "\n",
    "# Create labels\n",
    "y = np.array([3.0, 6.0, 9.0, 12.0, 15.0, 18.0, 21.0, 24.0])\n",
    "\n",
    "# Visualize it\n",
    "plt.scatter(X, y);"
   ]
  },
  {
   "cell_type": "markdown",
   "id": "f2d0e0cd",
   "metadata": {},
   "source": [
    "## Input and output shapes"
   ]
  },
  {
   "cell_type": "code",
   "execution_count": 4,
   "id": "7a351190",
   "metadata": {},
   "outputs": [
    {
     "data": {
      "text/plain": [
       "(<tf.Tensor: shape=(3,), dtype=string, numpy=array([b'bedroom', b'bathroom', b'garage'], dtype=object)>,\n",
       " <tf.Tensor: shape=(1,), dtype=int32, numpy=array([939700])>)"
      ]
     },
     "execution_count": 4,
     "metadata": {},
     "output_type": "execute_result"
    }
   ],
   "source": [
    "# Example input and output shapes of a regresson model\n",
    "house_info = tf.constant([\"bedroom\", \"bathroom\", \"garage\"])\n",
    "house_price = tf.constant([939700])\n",
    "house_info, house_price"
   ]
  },
  {
   "cell_type": "code",
   "execution_count": 5,
   "id": "6d815f8d",
   "metadata": {},
   "outputs": [
    {
     "data": {
      "text/plain": [
       "TensorShape([3])"
      ]
     },
     "execution_count": 5,
     "metadata": {},
     "output_type": "execute_result"
    }
   ],
   "source": [
    "house_info.shape"
   ]
  },
  {
   "cell_type": "markdown",
   "id": "a2afe53d",
   "metadata": {},
   "source": [
    "## Steps in modelling with TensorFlow\n",
    "\n",
    "In TensorFlow, there are typically 3 fundamental steps to creating and training a model.\n",
    "\n",
    "* Creating a model - piece together the layers of a neural network yourself (using the Functional or Sequential API) or import a previously built model (known as transfer learning).\n",
    "* Compiling a model - defining how a models performance should be measured (loss/metrics) as well as defining how it should improve (optimizer).\n",
    "* Fitting a model - letting the model try to find patterns in the data (how does X get to y)."
   ]
  },
  {
   "cell_type": "code",
   "execution_count": 6,
   "id": "b14302ec",
   "metadata": {},
   "outputs": [
    {
     "name": "stdout",
     "output_type": "stream",
     "text": [
      "Epoch 1/5\n",
      "1/1 [==============================] - 1s 1s/step - loss: 17.2096 - mae: 17.2096\n",
      "Epoch 2/5\n",
      "1/1 [==============================] - 0s 14ms/step - loss: 16.9283 - mae: 16.9283\n",
      "Epoch 3/5\n",
      "1/1 [==============================] - 0s 15ms/step - loss: 16.6471 - mae: 16.6471\n",
      "Epoch 4/5\n",
      "1/1 [==============================] - 0s 16ms/step - loss: 16.3658 - mae: 16.3658\n",
      "Epoch 5/5\n",
      "1/1 [==============================] - 0s 12ms/step - loss: 16.0846 - mae: 16.0846\n"
     ]
    },
    {
     "data": {
      "text/plain": [
       "<keras.callbacks.History at 0x201675215e0>"
      ]
     },
     "execution_count": 6,
     "metadata": {},
     "output_type": "execute_result"
    }
   ],
   "source": [
    "# Set random seed\n",
    "tf.random.set_seed(42)\n",
    "\n",
    "# Create a model using the Sequential API\n",
    "model = tf.keras.Sequential([\n",
    "  tf.keras.layers.Dense(1)\n",
    "])\n",
    "\n",
    "# Compile the model\n",
    "model.compile(loss=tf.keras.losses.mae, # mae is short for mean absolute error\n",
    "              optimizer=tf.keras.optimizers.SGD(), # SGD is short for stochastic gradient descent\n",
    "              metrics=[\"mae\"])\n",
    "\n",
    "# Fit the model\n",
    "# model.fit(X, y, epochs=5) # this will break with TensorFlow 2.7.0+\n",
    "model.fit(tf.expand_dims(X, axis=-1), y, epochs=5)"
   ]
  },
  {
   "cell_type": "code",
   "execution_count": 7,
   "id": "e321ca38",
   "metadata": {},
   "outputs": [
    {
     "data": {
      "text/plain": [
       "(array([-7., -4., -1.,  2.,  5.,  8., 11., 14.]),\n",
       " array([ 3.,  6.,  9., 12., 15., 18., 21., 24.]))"
      ]
     },
     "execution_count": 7,
     "metadata": {},
     "output_type": "execute_result"
    }
   ],
   "source": [
    "# Check out X and y\n",
    "X, y"
   ]
  },
  {
   "cell_type": "code",
   "execution_count": 8,
   "id": "af401818",
   "metadata": {},
   "outputs": [
    {
     "name": "stdout",
     "output_type": "stream",
     "text": [
      "1/1 [==============================] - 0s 383ms/step\n"
     ]
    },
    {
     "data": {
      "text/plain": [
       "array([[-9.940527]], dtype=float32)"
      ]
     },
     "execution_count": 8,
     "metadata": {},
     "output_type": "execute_result"
    }
   ],
   "source": [
    "# Make a prediction with the model\n",
    "model.predict([17.0])"
   ]
  },
  {
   "cell_type": "markdown",
   "id": "22f3f0f5",
   "metadata": {},
   "source": [
    "### Improving a model\n",
    "\n",
    "To improve our model, we alter almost every part of the 3 steps we went through before.\n",
    "\n",
    "* Creating a model - here you might want to add more layers, increase the number of hidden units (also called neurons) within each layer, change the activation functions of each layer.\n",
    "* Compiling a model - you might want to choose optimization function or perhaps change the learning rate of the optimization function.\n",
    "* Fitting a model - perhaps you could fit a model for more epochs (leave it training for longer) or on more data (give the model more examples to learn from)."
   ]
  },
  {
   "cell_type": "code",
   "execution_count": 9,
   "id": "eb7088b0",
   "metadata": {},
   "outputs": [
    {
     "name": "stdout",
     "output_type": "stream",
     "text": [
      "Epoch 1/100\n",
      "1/1 [==============================] - 1s 918ms/step - loss: 8.5890 - mae: 8.5890\n",
      "Epoch 2/100\n",
      "1/1 [==============================] - 0s 15ms/step - loss: 8.4565 - mae: 8.4565\n",
      "Epoch 3/100\n",
      "1/1 [==============================] - 0s 13ms/step - loss: 8.3240 - mae: 8.3240\n",
      "Epoch 4/100\n",
      "1/1 [==============================] - 0s 15ms/step - loss: 8.1915 - mae: 8.1915\n",
      "Epoch 5/100\n",
      "1/1 [==============================] - 0s 16ms/step - loss: 8.0590 - mae: 8.0590\n",
      "Epoch 6/100\n",
      "1/1 [==============================] - 0s 18ms/step - loss: 7.9265 - mae: 7.9265\n",
      "Epoch 7/100\n",
      "1/1 [==============================] - 0s 15ms/step - loss: 7.7940 - mae: 7.7940\n",
      "Epoch 8/100\n",
      "1/1 [==============================] - 0s 16ms/step - loss: 7.6615 - mae: 7.6615\n",
      "Epoch 9/100\n",
      "1/1 [==============================] - 0s 18ms/step - loss: 7.5290 - mae: 7.5290\n",
      "Epoch 10/100\n",
      "1/1 [==============================] - 0s 15ms/step - loss: 7.4325 - mae: 7.4325\n",
      "Epoch 11/100\n",
      "1/1 [==============================] - 0s 16ms/step - loss: 7.4269 - mae: 7.4269\n",
      "Epoch 12/100\n",
      "1/1 [==============================] - 0s 15ms/step - loss: 7.4212 - mae: 7.4212\n",
      "Epoch 13/100\n",
      "1/1 [==============================] - 0s 14ms/step - loss: 7.4156 - mae: 7.4156\n",
      "Epoch 14/100\n",
      "1/1 [==============================] - 0s 17ms/step - loss: 7.4100 - mae: 7.4100\n",
      "Epoch 15/100\n",
      "1/1 [==============================] - 0s 16ms/step - loss: 7.4044 - mae: 7.4044\n",
      "Epoch 16/100\n",
      "1/1 [==============================] - 0s 14ms/step - loss: 7.3987 - mae: 7.3987\n",
      "Epoch 17/100\n",
      "1/1 [==============================] - 0s 17ms/step - loss: 7.3931 - mae: 7.3931\n",
      "Epoch 18/100\n",
      "1/1 [==============================] - 0s 16ms/step - loss: 7.3875 - mae: 7.3875\n",
      "Epoch 19/100\n",
      "1/1 [==============================] - 0s 16ms/step - loss: 7.3819 - mae: 7.3819\n",
      "Epoch 20/100\n",
      "1/1 [==============================] - 0s 16ms/step - loss: 7.3763 - mae: 7.3763\n",
      "Epoch 21/100\n",
      "1/1 [==============================] - 0s 15ms/step - loss: 7.3706 - mae: 7.3706\n",
      "Epoch 22/100\n",
      "1/1 [==============================] - 0s 16ms/step - loss: 7.3650 - mae: 7.3650\n",
      "Epoch 23/100\n",
      "1/1 [==============================] - 0s 15ms/step - loss: 7.3594 - mae: 7.3594\n",
      "Epoch 24/100\n",
      "1/1 [==============================] - 0s 16ms/step - loss: 7.3538 - mae: 7.3538\n",
      "Epoch 25/100\n",
      "1/1 [==============================] - 0s 16ms/step - loss: 7.3481 - mae: 7.3481\n",
      "Epoch 26/100\n",
      "1/1 [==============================] - 0s 22ms/step - loss: 7.3425 - mae: 7.3425\n",
      "Epoch 27/100\n",
      "1/1 [==============================] - 0s 17ms/step - loss: 7.3369 - mae: 7.3369\n",
      "Epoch 28/100\n",
      "1/1 [==============================] - 0s 16ms/step - loss: 7.3313 - mae: 7.3313\n",
      "Epoch 29/100\n",
      "1/1 [==============================] - 0s 17ms/step - loss: 7.3256 - mae: 7.3256\n",
      "Epoch 30/100\n",
      "1/1 [==============================] - 0s 16ms/step - loss: 7.3200 - mae: 7.3200\n",
      "Epoch 31/100\n",
      "1/1 [==============================] - 0s 16ms/step - loss: 7.3144 - mae: 7.3144\n",
      "Epoch 32/100\n",
      "1/1 [==============================] - 0s 15ms/step - loss: 7.3088 - mae: 7.3088\n",
      "Epoch 33/100\n",
      "1/1 [==============================] - 0s 16ms/step - loss: 7.3031 - mae: 7.3031\n",
      "Epoch 34/100\n",
      "1/1 [==============================] - 0s 11ms/step - loss: 7.2975 - mae: 7.2975\n",
      "Epoch 35/100\n",
      "1/1 [==============================] - 0s 15ms/step - loss: 7.2919 - mae: 7.2919\n",
      "Epoch 36/100\n",
      "1/1 [==============================] - 0s 15ms/step - loss: 7.2863 - mae: 7.2863\n",
      "Epoch 37/100\n",
      "1/1 [==============================] - 0s 15ms/step - loss: 7.2806 - mae: 7.2806\n",
      "Epoch 38/100\n",
      "1/1 [==============================] - 0s 18ms/step - loss: 7.2750 - mae: 7.2750\n",
      "Epoch 39/100\n",
      "1/1 [==============================] - 0s 14ms/step - loss: 7.2694 - mae: 7.2694\n",
      "Epoch 40/100\n",
      "1/1 [==============================] - 0s 16ms/step - loss: 7.2638 - mae: 7.2638\n",
      "Epoch 41/100\n",
      "1/1 [==============================] - 0s 17ms/step - loss: 7.2581 - mae: 7.2581\n",
      "Epoch 42/100\n",
      "1/1 [==============================] - 0s 17ms/step - loss: 7.2525 - mae: 7.2525\n",
      "Epoch 43/100\n",
      "1/1 [==============================] - 0s 19ms/step - loss: 7.2469 - mae: 7.2469\n",
      "Epoch 44/100\n",
      "1/1 [==============================] - 0s 18ms/step - loss: 7.2413 - mae: 7.2413\n",
      "Epoch 45/100\n",
      "1/1 [==============================] - 0s 19ms/step - loss: 7.2356 - mae: 7.2356\n",
      "Epoch 46/100\n",
      "1/1 [==============================] - 0s 16ms/step - loss: 7.2300 - mae: 7.2300\n",
      "Epoch 47/100\n",
      "1/1 [==============================] - 0s 16ms/step - loss: 7.2244 - mae: 7.2244\n",
      "Epoch 48/100\n",
      "1/1 [==============================] - 0s 11ms/step - loss: 7.2188 - mae: 7.2188\n",
      "Epoch 49/100\n",
      "1/1 [==============================] - 0s 15ms/step - loss: 7.2131 - mae: 7.2131\n",
      "Epoch 50/100\n",
      "1/1 [==============================] - 0s 18ms/step - loss: 7.2075 - mae: 7.2075\n",
      "Epoch 51/100\n",
      "1/1 [==============================] - 0s 10ms/step - loss: 7.2019 - mae: 7.2019\n",
      "Epoch 52/100\n",
      "1/1 [==============================] - 0s 15ms/step - loss: 7.1963 - mae: 7.1963\n",
      "Epoch 53/100\n",
      "1/1 [==============================] - 0s 16ms/step - loss: 7.1906 - mae: 7.1906\n",
      "Epoch 54/100\n",
      "1/1 [==============================] - 0s 12ms/step - loss: 7.1850 - mae: 7.1850\n",
      "Epoch 55/100\n",
      "1/1 [==============================] - 0s 16ms/step - loss: 7.1794 - mae: 7.1794\n",
      "Epoch 56/100\n",
      "1/1 [==============================] - 0s 14ms/step - loss: 7.1738 - mae: 7.1738\n",
      "Epoch 57/100\n",
      "1/1 [==============================] - 0s 19ms/step - loss: 7.1681 - mae: 7.1681\n",
      "Epoch 58/100\n",
      "1/1 [==============================] - 0s 17ms/step - loss: 7.1625 - mae: 7.1625\n",
      "Epoch 59/100\n",
      "1/1 [==============================] - 0s 15ms/step - loss: 7.1569 - mae: 7.1569\n",
      "Epoch 60/100\n",
      "1/1 [==============================] - 0s 19ms/step - loss: 7.1512 - mae: 7.1512\n",
      "Epoch 61/100\n",
      "1/1 [==============================] - 0s 16ms/step - loss: 7.1456 - mae: 7.1456\n",
      "Epoch 62/100\n",
      "1/1 [==============================] - 0s 32ms/step - loss: 7.1400 - mae: 7.1400\n",
      "Epoch 63/100\n",
      "1/1 [==============================] - 0s 14ms/step - loss: 7.1344 - mae: 7.1344\n",
      "Epoch 64/100\n",
      "1/1 [==============================] - 0s 15ms/step - loss: 7.1287 - mae: 7.1287\n",
      "Epoch 65/100\n",
      "1/1 [==============================] - 0s 19ms/step - loss: 7.1231 - mae: 7.1231\n",
      "Epoch 66/100\n",
      "1/1 [==============================] - 0s 18ms/step - loss: 7.1175 - mae: 7.1175\n",
      "Epoch 67/100\n",
      "1/1 [==============================] - 0s 17ms/step - loss: 7.1119 - mae: 7.1119\n",
      "Epoch 68/100\n",
      "1/1 [==============================] - 0s 14ms/step - loss: 7.1062 - mae: 7.1062\n",
      "Epoch 69/100\n",
      "1/1 [==============================] - 0s 17ms/step - loss: 7.1006 - mae: 7.1006\n",
      "Epoch 70/100\n",
      "1/1 [==============================] - 0s 15ms/step - loss: 7.0950 - mae: 7.0950\n",
      "Epoch 71/100\n",
      "1/1 [==============================] - 0s 16ms/step - loss: 7.0894 - mae: 7.0894\n",
      "Epoch 72/100\n",
      "1/1 [==============================] - 0s 18ms/step - loss: 7.0838 - mae: 7.0838\n",
      "Epoch 73/100\n",
      "1/1 [==============================] - 0s 18ms/step - loss: 7.0781 - mae: 7.0781\n",
      "Epoch 74/100\n",
      "1/1 [==============================] - 0s 18ms/step - loss: 7.0725 - mae: 7.0725\n",
      "Epoch 75/100\n",
      "1/1 [==============================] - 0s 16ms/step - loss: 7.0669 - mae: 7.0669\n",
      "Epoch 76/100\n",
      "1/1 [==============================] - 0s 16ms/step - loss: 7.0613 - mae: 7.0613\n",
      "Epoch 77/100\n",
      "1/1 [==============================] - 0s 17ms/step - loss: 7.0556 - mae: 7.0556\n",
      "Epoch 78/100\n",
      "1/1 [==============================] - 0s 17ms/step - loss: 7.0500 - mae: 7.0500\n",
      "Epoch 79/100\n",
      "1/1 [==============================] - 0s 16ms/step - loss: 7.0444 - mae: 7.0444\n",
      "Epoch 80/100\n",
      "1/1 [==============================] - 0s 19ms/step - loss: 7.0388 - mae: 7.0388\n",
      "Epoch 81/100\n",
      "1/1 [==============================] - 0s 17ms/step - loss: 7.0331 - mae: 7.0331\n",
      "Epoch 82/100\n",
      "1/1 [==============================] - 0s 14ms/step - loss: 7.0275 - mae: 7.0275\n",
      "Epoch 83/100\n",
      "1/1 [==============================] - 0s 18ms/step - loss: 7.0219 - mae: 7.0219\n",
      "Epoch 84/100\n",
      "1/1 [==============================] - 0s 17ms/step - loss: 7.0162 - mae: 7.0162\n",
      "Epoch 85/100\n",
      "1/1 [==============================] - 0s 19ms/step - loss: 7.0106 - mae: 7.0106\n",
      "Epoch 86/100\n",
      "1/1 [==============================] - 0s 19ms/step - loss: 7.0050 - mae: 7.0050\n",
      "Epoch 87/100\n",
      "1/1 [==============================] - 0s 20ms/step - loss: 6.9994 - mae: 6.9994\n",
      "Epoch 88/100\n"
     ]
    },
    {
     "name": "stdout",
     "output_type": "stream",
     "text": [
      "1/1 [==============================] - 0s 17ms/step - loss: 6.9938 - mae: 6.9938\n",
      "Epoch 89/100\n",
      "1/1 [==============================] - 0s 18ms/step - loss: 6.9881 - mae: 6.9881\n",
      "Epoch 90/100\n",
      "1/1 [==============================] - 0s 16ms/step - loss: 6.9825 - mae: 6.9825\n",
      "Epoch 91/100\n",
      "1/1 [==============================] - 0s 17ms/step - loss: 6.9769 - mae: 6.9769\n",
      "Epoch 92/100\n",
      "1/1 [==============================] - 0s 15ms/step - loss: 6.9713 - mae: 6.9713\n",
      "Epoch 93/100\n",
      "1/1 [==============================] - 0s 16ms/step - loss: 6.9656 - mae: 6.9656\n",
      "Epoch 94/100\n",
      "1/1 [==============================] - 0s 17ms/step - loss: 6.9600 - mae: 6.9600\n",
      "Epoch 95/100\n",
      "1/1 [==============================] - 0s 18ms/step - loss: 6.9544 - mae: 6.9544\n",
      "Epoch 96/100\n",
      "1/1 [==============================] - 0s 19ms/step - loss: 6.9488 - mae: 6.9488\n",
      "Epoch 97/100\n",
      "1/1 [==============================] - 0s 17ms/step - loss: 6.9431 - mae: 6.9431\n",
      "Epoch 98/100\n",
      "1/1 [==============================] - 0s 16ms/step - loss: 6.9375 - mae: 6.9375\n",
      "Epoch 99/100\n",
      "1/1 [==============================] - 0s 18ms/step - loss: 6.9319 - mae: 6.9319\n",
      "Epoch 100/100\n",
      "1/1 [==============================] - 0s 17ms/step - loss: 6.9263 - mae: 6.9263\n"
     ]
    },
    {
     "data": {
      "text/plain": [
       "<keras.callbacks.History at 0x201675c6a60>"
      ]
     },
     "execution_count": 9,
     "metadata": {},
     "output_type": "execute_result"
    }
   ],
   "source": [
    "# Set random seed\n",
    "tf.random.set_seed(42)\n",
    "\n",
    "# Create a model (same as above)\n",
    "model = tf.keras.Sequential([\n",
    "  tf.keras.layers.Dense(1)\n",
    "])\n",
    "\n",
    "# Compile model (same as above)\n",
    "model.compile(loss=tf.keras.losses.mae,\n",
    "              optimizer=tf.keras.optimizers.SGD(),\n",
    "              metrics=[\"mae\"])\n",
    "\n",
    "# Fit model (this time we'll train for longer)\n",
    "model.fit(tf.expand_dims(X, axis=-1), y, epochs=100) # train for 100 epochs not 10"
   ]
  },
  {
   "cell_type": "code",
   "execution_count": 10,
   "id": "cf7c6ae3",
   "metadata": {},
   "outputs": [
    {
     "data": {
      "text/plain": [
       "(array([-7., -4., -1.,  2.,  5.,  8., 11., 14.]),\n",
       " array([ 3.,  6.,  9., 12., 15., 18., 21., 24.]))"
      ]
     },
     "execution_count": 10,
     "metadata": {},
     "output_type": "execute_result"
    }
   ],
   "source": [
    "# Remind ourselves of what X and y are\n",
    "X, y"
   ]
  },
  {
   "cell_type": "code",
   "execution_count": 11,
   "id": "f8d9bc0d",
   "metadata": {},
   "outputs": [
    {
     "name": "stdout",
     "output_type": "stream",
     "text": [
      "1/1 [==============================] - 0s 407ms/step\n"
     ]
    },
    {
     "data": {
      "text/plain": [
       "array([[29.980885]], dtype=float32)"
      ]
     },
     "execution_count": 11,
     "metadata": {},
     "output_type": "execute_result"
    }
   ],
   "source": [
    "# Try and predict what y would be if X was 17.0\n",
    "model.predict([17.0]) # the right answer is 27.0 (y = X + 10)"
   ]
  },
  {
   "cell_type": "code",
   "execution_count": 12,
   "id": "7c710282",
   "metadata": {},
   "outputs": [
    {
     "name": "stdout",
     "output_type": "stream",
     "text": [
      "Epoch 1/100\n",
      "1/1 [==============================] - 1s 1s/step - loss: 11.4790 - mae: 11.4790\n",
      "Epoch 2/100\n",
      "1/1 [==============================] - 0s 18ms/step - loss: 11.4429 - mae: 11.4429\n",
      "Epoch 3/100\n",
      "1/1 [==============================] - 0s 12ms/step - loss: 11.4070 - mae: 11.4070\n",
      "Epoch 4/100\n",
      "1/1 [==============================] - 0s 17ms/step - loss: 11.3709 - mae: 11.3709\n",
      "Epoch 5/100\n",
      "1/1 [==============================] - 0s 15ms/step - loss: 11.3350 - mae: 11.3350\n",
      "Epoch 6/100\n",
      "1/1 [==============================] - 0s 13ms/step - loss: 11.2988 - mae: 11.2988\n",
      "Epoch 7/100\n",
      "1/1 [==============================] - 0s 18ms/step - loss: 11.2624 - mae: 11.2624\n",
      "Epoch 8/100\n",
      "1/1 [==============================] - 0s 17ms/step - loss: 11.2258 - mae: 11.2258\n",
      "Epoch 9/100\n",
      "1/1 [==============================] - 0s 14ms/step - loss: 11.1890 - mae: 11.1890\n",
      "Epoch 10/100\n",
      "1/1 [==============================] - 0s 19ms/step - loss: 11.1519 - mae: 11.1519\n",
      "Epoch 11/100\n",
      "1/1 [==============================] - 0s 20ms/step - loss: 11.1146 - mae: 11.1146\n",
      "Epoch 12/100\n",
      "1/1 [==============================] - 0s 18ms/step - loss: 11.0772 - mae: 11.0772\n",
      "Epoch 13/100\n",
      "1/1 [==============================] - 0s 15ms/step - loss: 11.0394 - mae: 11.0394\n",
      "Epoch 14/100\n",
      "1/1 [==============================] - 0s 15ms/step - loss: 11.0015 - mae: 11.0015\n",
      "Epoch 15/100\n",
      "1/1 [==============================] - 0s 17ms/step - loss: 10.9633 - mae: 10.9633\n",
      "Epoch 16/100\n",
      "1/1 [==============================] - 0s 10ms/step - loss: 10.9249 - mae: 10.9249\n",
      "Epoch 17/100\n",
      "1/1 [==============================] - 0s 18ms/step - loss: 10.8862 - mae: 10.8862\n",
      "Epoch 18/100\n",
      "1/1 [==============================] - 0s 17ms/step - loss: 10.8473 - mae: 10.8473\n",
      "Epoch 19/100\n",
      "1/1 [==============================] - 0s 11ms/step - loss: 10.8081 - mae: 10.8081\n",
      "Epoch 20/100\n",
      "1/1 [==============================] - 0s 19ms/step - loss: 10.7687 - mae: 10.7687\n",
      "Epoch 21/100\n",
      "1/1 [==============================] - 0s 13ms/step - loss: 10.7290 - mae: 10.7290\n",
      "Epoch 22/100\n",
      "1/1 [==============================] - 0s 20ms/step - loss: 10.6891 - mae: 10.6891\n",
      "Epoch 23/100\n",
      "1/1 [==============================] - 0s 17ms/step - loss: 10.6489 - mae: 10.6489\n",
      "Epoch 24/100\n",
      "1/1 [==============================] - 0s 17ms/step - loss: 10.6084 - mae: 10.6084\n",
      "Epoch 25/100\n",
      "1/1 [==============================] - 0s 13ms/step - loss: 10.5677 - mae: 10.5677\n",
      "Epoch 26/100\n",
      "1/1 [==============================] - 0s 19ms/step - loss: 10.5267 - mae: 10.5267\n",
      "Epoch 27/100\n",
      "1/1 [==============================] - 0s 12ms/step - loss: 10.4854 - mae: 10.4854\n",
      "Epoch 28/100\n",
      "1/1 [==============================] - 0s 16ms/step - loss: 10.4438 - mae: 10.4438\n",
      "Epoch 29/100\n",
      "1/1 [==============================] - 0s 15ms/step - loss: 10.4020 - mae: 10.4020\n",
      "Epoch 30/100\n",
      "1/1 [==============================] - 0s 13ms/step - loss: 10.3598 - mae: 10.3598\n",
      "Epoch 31/100\n",
      "1/1 [==============================] - 0s 12ms/step - loss: 10.3174 - mae: 10.3174\n",
      "Epoch 32/100\n",
      "1/1 [==============================] - 0s 14ms/step - loss: 10.2747 - mae: 10.2747\n",
      "Epoch 33/100\n",
      "1/1 [==============================] - 0s 13ms/step - loss: 10.2316 - mae: 10.2316\n",
      "Epoch 34/100\n",
      "1/1 [==============================] - 0s 21ms/step - loss: 10.1883 - mae: 10.1883\n",
      "Epoch 35/100\n",
      "1/1 [==============================] - 0s 15ms/step - loss: 10.1446 - mae: 10.1446\n",
      "Epoch 36/100\n",
      "1/1 [==============================] - 0s 14ms/step - loss: 10.1007 - mae: 10.1007\n",
      "Epoch 37/100\n",
      "1/1 [==============================] - 0s 14ms/step - loss: 10.0564 - mae: 10.0564\n",
      "Epoch 38/100\n",
      "1/1 [==============================] - 0s 27ms/step - loss: 10.0118 - mae: 10.0118\n",
      "Epoch 39/100\n",
      "1/1 [==============================] - 0s 16ms/step - loss: 9.9669 - mae: 9.9669\n",
      "Epoch 40/100\n",
      "1/1 [==============================] - 0s 14ms/step - loss: 9.9216 - mae: 9.9216\n",
      "Epoch 41/100\n",
      "1/1 [==============================] - 0s 10ms/step - loss: 9.8761 - mae: 9.8761\n",
      "Epoch 42/100\n",
      "1/1 [==============================] - 0s 10ms/step - loss: 9.8301 - mae: 9.8301\n",
      "Epoch 43/100\n",
      "1/1 [==============================] - 0s 9ms/step - loss: 9.7839 - mae: 9.7839\n",
      "Epoch 44/100\n",
      "1/1 [==============================] - 0s 10ms/step - loss: 9.7373 - mae: 9.7373\n",
      "Epoch 45/100\n",
      "1/1 [==============================] - 0s 9ms/step - loss: 9.6903 - mae: 9.6903\n",
      "Epoch 46/100\n",
      "1/1 [==============================] - 0s 14ms/step - loss: 9.6430 - mae: 9.6430\n",
      "Epoch 47/100\n",
      "1/1 [==============================] - 0s 16ms/step - loss: 9.5954 - mae: 9.5954\n",
      "Epoch 48/100\n",
      "1/1 [==============================] - 0s 15ms/step - loss: 9.5473 - mae: 9.5473\n",
      "Epoch 49/100\n",
      "1/1 [==============================] - 0s 9ms/step - loss: 9.4989 - mae: 9.4989\n",
      "Epoch 50/100\n",
      "1/1 [==============================] - 0s 9ms/step - loss: 9.4502 - mae: 9.4502\n",
      "Epoch 51/100\n",
      "1/1 [==============================] - 0s 14ms/step - loss: 9.4010 - mae: 9.4010\n",
      "Epoch 52/100\n",
      "1/1 [==============================] - 0s 13ms/step - loss: 9.3515 - mae: 9.3515\n",
      "Epoch 53/100\n",
      "1/1 [==============================] - 0s 14ms/step - loss: 9.3016 - mae: 9.3016\n",
      "Epoch 54/100\n",
      "1/1 [==============================] - 0s 13ms/step - loss: 9.2513 - mae: 9.2513\n",
      "Epoch 55/100\n",
      "1/1 [==============================] - 0s 16ms/step - loss: 9.2006 - mae: 9.2006\n",
      "Epoch 56/100\n",
      "1/1 [==============================] - 0s 9ms/step - loss: 9.1495 - mae: 9.1495\n",
      "Epoch 57/100\n",
      "1/1 [==============================] - 0s 14ms/step - loss: 9.0980 - mae: 9.0980\n",
      "Epoch 58/100\n",
      "1/1 [==============================] - 0s 15ms/step - loss: 9.0462 - mae: 9.0462\n",
      "Epoch 59/100\n",
      "1/1 [==============================] - 0s 14ms/step - loss: 8.9938 - mae: 8.9938\n",
      "Epoch 60/100\n",
      "1/1 [==============================] - 0s 16ms/step - loss: 8.9411 - mae: 8.9411\n",
      "Epoch 61/100\n",
      "1/1 [==============================] - 0s 10ms/step - loss: 8.8880 - mae: 8.8880\n",
      "Epoch 62/100\n",
      "1/1 [==============================] - 0s 16ms/step - loss: 8.8344 - mae: 8.8344\n",
      "Epoch 63/100\n",
      "1/1 [==============================] - 0s 17ms/step - loss: 8.7804 - mae: 8.7804\n",
      "Epoch 64/100\n",
      "1/1 [==============================] - 0s 19ms/step - loss: 8.7259 - mae: 8.7259\n",
      "Epoch 65/100\n",
      "1/1 [==============================] - 0s 17ms/step - loss: 8.6711 - mae: 8.6711\n",
      "Epoch 66/100\n",
      "1/1 [==============================] - 0s 12ms/step - loss: 8.6157 - mae: 8.6157\n",
      "Epoch 67/100\n",
      "1/1 [==============================] - 0s 16ms/step - loss: 8.5599 - mae: 8.5599\n",
      "Epoch 68/100\n",
      "1/1 [==============================] - 0s 15ms/step - loss: 8.5037 - mae: 8.5037\n",
      "Epoch 69/100\n",
      "1/1 [==============================] - 0s 16ms/step - loss: 8.4470 - mae: 8.4470\n",
      "Epoch 70/100\n",
      "1/1 [==============================] - 0s 19ms/step - loss: 8.3898 - mae: 8.3898\n",
      "Epoch 71/100\n",
      "1/1 [==============================] - 0s 42ms/step - loss: 8.3322 - mae: 8.3322\n",
      "Epoch 72/100\n",
      "1/1 [==============================] - 0s 24ms/step - loss: 8.2740 - mae: 8.2740\n",
      "Epoch 73/100\n",
      "1/1 [==============================] - 0s 19ms/step - loss: 8.2154 - mae: 8.2154\n",
      "Epoch 74/100\n",
      "1/1 [==============================] - 0s 25ms/step - loss: 8.1563 - mae: 8.1563\n",
      "Epoch 75/100\n",
      "1/1 [==============================] - 0s 15ms/step - loss: 8.0967 - mae: 8.0967\n",
      "Epoch 76/100\n",
      "1/1 [==============================] - 0s 18ms/step - loss: 8.0366 - mae: 8.0366\n",
      "Epoch 77/100\n",
      "1/1 [==============================] - 0s 16ms/step - loss: 7.9760 - mae: 7.9760\n",
      "Epoch 78/100\n",
      "1/1 [==============================] - 0s 15ms/step - loss: 7.9149 - mae: 7.9149\n",
      "Epoch 79/100\n",
      "1/1 [==============================] - 0s 18ms/step - loss: 7.8533 - mae: 7.8533\n",
      "Epoch 80/100\n",
      "1/1 [==============================] - 0s 20ms/step - loss: 7.7912 - mae: 7.7912\n",
      "Epoch 81/100\n",
      "1/1 [==============================] - 0s 17ms/step - loss: 7.7285 - mae: 7.7285\n",
      "Epoch 82/100\n",
      "1/1 [==============================] - 0s 29ms/step - loss: 7.6653 - mae: 7.6653\n",
      "Epoch 83/100\n",
      "1/1 [==============================] - 0s 15ms/step - loss: 7.6015 - mae: 7.6015\n",
      "Epoch 84/100\n",
      "1/1 [==============================] - 0s 22ms/step - loss: 7.5372 - mae: 7.5372\n",
      "Epoch 85/100\n",
      "1/1 [==============================] - 0s 16ms/step - loss: 7.4724 - mae: 7.4724\n",
      "Epoch 86/100\n",
      "1/1 [==============================] - 0s 14ms/step - loss: 7.4069 - mae: 7.4069\n",
      "Epoch 87/100\n"
     ]
    },
    {
     "name": "stdout",
     "output_type": "stream",
     "text": [
      "1/1 [==============================] - 0s 18ms/step - loss: 7.3410 - mae: 7.3410\n",
      "Epoch 88/100\n",
      "1/1 [==============================] - 0s 15ms/step - loss: 7.2744 - mae: 7.2744\n",
      "Epoch 89/100\n",
      "1/1 [==============================] - 0s 29ms/step - loss: 7.2073 - mae: 7.2073\n",
      "Epoch 90/100\n",
      "1/1 [==============================] - 0s 15ms/step - loss: 7.1396 - mae: 7.1396\n",
      "Epoch 91/100\n",
      "1/1 [==============================] - 0s 142ms/step - loss: 7.0713 - mae: 7.0713\n",
      "Epoch 92/100\n",
      "1/1 [==============================] - 0s 16ms/step - loss: 7.0024 - mae: 7.0024\n",
      "Epoch 93/100\n",
      "1/1 [==============================] - 0s 15ms/step - loss: 6.9329 - mae: 6.9329\n",
      "Epoch 94/100\n",
      "1/1 [==============================] - 0s 15ms/step - loss: 6.8628 - mae: 6.8628\n",
      "Epoch 95/100\n",
      "1/1 [==============================] - 0s 16ms/step - loss: 6.7921 - mae: 6.7921\n",
      "Epoch 96/100\n",
      "1/1 [==============================] - 0s 16ms/step - loss: 6.7207 - mae: 6.7207\n",
      "Epoch 97/100\n",
      "1/1 [==============================] - 0s 15ms/step - loss: 6.6488 - mae: 6.6488\n",
      "Epoch 98/100\n",
      "1/1 [==============================] - 0s 17ms/step - loss: 6.5762 - mae: 6.5762\n",
      "Epoch 99/100\n",
      "1/1 [==============================] - 0s 20ms/step - loss: 6.5029 - mae: 6.5029\n",
      "Epoch 100/100\n",
      "1/1 [==============================] - 0s 16ms/step - loss: 6.4290 - mae: 6.4290\n"
     ]
    },
    {
     "data": {
      "text/plain": [
       "<keras.callbacks.History at 0x201678217f0>"
      ]
     },
     "execution_count": 12,
     "metadata": {},
     "output_type": "execute_result"
    }
   ],
   "source": [
    "# Set random seed\n",
    "tf.random.set_seed(42)\n",
    "\n",
    "# Create a model (same as above)\n",
    "model = tf.keras.Sequential([\n",
    "  tf.keras.layers.Dense(10, activation = 'relu'),\n",
    "    tf.keras.layers.Dense(1, activation = 'linear')\n",
    "])\n",
    "\n",
    "# Compile model (same as above)\n",
    "model.compile(loss=tf.keras.losses.mae,\n",
    "              optimizer=tf.keras.optimizers.SGD(learning_rate=0.001),\n",
    "              metrics=[\"mae\"])\n",
    "\n",
    "# Fit model (this time we'll train for longer)\n",
    "model.fit(tf.expand_dims(X, axis=-1), y, epochs=100) # train for 100 epochs not 10"
   ]
  },
  {
   "cell_type": "code",
   "execution_count": 13,
   "id": "031d2fce",
   "metadata": {},
   "outputs": [
    {
     "data": {
      "text/plain": [
       "(array([-7., -4., -1.,  2.,  5.,  8., 11., 14.]),\n",
       " array([ 3.,  6.,  9., 12., 15., 18., 21., 24.]))"
      ]
     },
     "execution_count": 13,
     "metadata": {},
     "output_type": "execute_result"
    }
   ],
   "source": [
    "# Remind ourselves of what X and y are\n",
    "X, y"
   ]
  },
  {
   "cell_type": "code",
   "execution_count": 14,
   "id": "0d7d6962",
   "metadata": {},
   "outputs": [
    {
     "name": "stdout",
     "output_type": "stream",
     "text": [
      "1/1 [==============================] - 0s 483ms/step\n"
     ]
    },
    {
     "data": {
      "text/plain": [
       "array([[22.174973]], dtype=float32)"
      ]
     },
     "execution_count": 14,
     "metadata": {},
     "output_type": "execute_result"
    }
   ],
   "source": [
    "# Try and predict what y would be if X was 17.0\n",
    "model.predict([17.0]) # the right answer is 27.0 (y = X + 10)"
   ]
  },
  {
   "cell_type": "markdown",
   "id": "a5b00f9b",
   "metadata": {},
   "source": [
    "### Evaluating a model"
   ]
  },
  {
   "cell_type": "code",
   "execution_count": 15,
   "id": "a17af754",
   "metadata": {},
   "outputs": [
    {
     "data": {
      "text/plain": [
       "array([-100,  -96,  -92,  -88,  -84,  -80,  -76,  -72,  -68,  -64,  -60,\n",
       "        -56,  -52,  -48,  -44,  -40,  -36,  -32,  -28,  -24,  -20,  -16,\n",
       "        -12,   -8,   -4,    0,    4,    8,   12,   16,   20,   24,   28,\n",
       "         32,   36,   40,   44,   48,   52,   56,   60,   64,   68,   72,\n",
       "         76,   80,   84,   88,   92,   96])"
      ]
     },
     "execution_count": 15,
     "metadata": {},
     "output_type": "execute_result"
    }
   ],
   "source": [
    "# Make a bigger dataset\n",
    "X = np.arange(-100, 100, 4)\n",
    "X"
   ]
  },
  {
   "cell_type": "code",
   "execution_count": 16,
   "id": "97d825f8",
   "metadata": {},
   "outputs": [
    {
     "data": {
      "text/plain": [
       "array([-90, -86, -82, -78, -74, -70, -66, -62, -58, -54, -50, -46, -42,\n",
       "       -38, -34, -30, -26, -22, -18, -14, -10,  -6,  -2,   2,   6,  10,\n",
       "        14,  18,  22,  26,  30,  34,  38,  42,  46,  50,  54,  58,  62,\n",
       "        66,  70,  74,  78,  82,  86,  90,  94,  98, 102, 106])"
      ]
     },
     "execution_count": 16,
     "metadata": {},
     "output_type": "execute_result"
    }
   ],
   "source": [
    "# Make labels for the dataset (adhering to the same pattern as before)\n",
    "y = np.arange(-90, 110, 4)\n",
    "y"
   ]
  },
  {
   "cell_type": "code",
   "execution_count": 17,
   "id": "981530c6",
   "metadata": {},
   "outputs": [
    {
     "data": {
      "text/plain": [
       "array([-90, -86, -82, -78, -74, -70, -66, -62, -58, -54, -50, -46, -42,\n",
       "       -38, -34, -30, -26, -22, -18, -14, -10,  -6,  -2,   2,   6,  10,\n",
       "        14,  18,  22,  26,  30,  34,  38,  42,  46,  50,  54,  58,  62,\n",
       "        66,  70,  74,  78,  82,  86,  90,  94,  98, 102, 106])"
      ]
     },
     "execution_count": 17,
     "metadata": {},
     "output_type": "execute_result"
    }
   ],
   "source": [
    "# Same result as above\n",
    "y = X + 10\n",
    "y"
   ]
  },
  {
   "cell_type": "markdown",
   "id": "9a206d9c",
   "metadata": {},
   "source": [
    "## Splitting the data into training and test set\n",
    "\n",
    "One of the other most common and important steps in a machine learning project is creating a training and test set (and when required, a validation set).\n",
    "\n",
    "Each set serves a specific purpose:\n",
    "\n",
    "* Training set - the model learns from this data, which is typically 70-80% of the total data available (like the course materials you study during the semester).\n",
    "* Validation set - the model gets tuned on this data, which is typically 10-15% of the total data available (like the practice exam you take before the final exam).\n",
    "* Test set - the model gets evaluated on this data to test what it has learned, it's typically 10-15% of the total data available (like the final exam you take at the end of the semester).\n",
    "\n",
    "For now, we'll just use a training and test set, this means we'll have a dataset for our model to learn on as well as be evaluated on."
   ]
  },
  {
   "cell_type": "code",
   "execution_count": 19,
   "id": "0ce09dc5",
   "metadata": {},
   "outputs": [
    {
     "data": {
      "text/plain": [
       "50"
      ]
     },
     "execution_count": 19,
     "metadata": {},
     "output_type": "execute_result"
    }
   ],
   "source": [
    "# Check how many samples we have\n",
    "len(X)"
   ]
  },
  {
   "cell_type": "code",
   "execution_count": 20,
   "id": "52e01861",
   "metadata": {},
   "outputs": [
    {
     "data": {
      "text/plain": [
       "(40, 10)"
      ]
     },
     "execution_count": 20,
     "metadata": {},
     "output_type": "execute_result"
    }
   ],
   "source": [
    "# Split data into train and test sets\n",
    "X_train = X[:40] # first 40 examples (80% of data)\n",
    "y_train = y[:40]\n",
    "\n",
    "X_test = X[40:] # last 10 examples (20% of data)\n",
    "y_test = y[40:]\n",
    "\n",
    "len(X_train), len(X_test)"
   ]
  },
  {
   "cell_type": "code",
   "execution_count": 21,
   "id": "ff663615",
   "metadata": {},
   "outputs": [
    {
     "data": {
      "image/png": "[encoded data removed]",
      "text/plain": [
       "<Figure size 1000x700 with 1 Axes>"
      ]
     },
     "metadata": {},
     "output_type": "display_data"
    }
   ],
   "source": [
    "plt.figure(figsize=(10, 7))\n",
    "# Plot training data in blue\n",
    "plt.scatter(X_train, y_train, c='b', label='Training data')\n",
    "# Plot test data in green\n",
    "plt.scatter(X_test, y_test, c='g', label='Testing data')\n",
    "# Show the legend\n",
    "plt.legend();"
   ]
  },
  {
   "cell_type": "code",
   "execution_count": null,
   "id": "e33dc6fe",
   "metadata": {},
   "outputs": [],
   "source": []
  }
 ],
 "metadata": {
  "kernelspec": {
   "display_name": "Python 3 (ipykernel)",
   "language": "python",
   "name": "python3"
  },
  "language_info": {
   "codemirror_mode": {
    "name": "ipython",
    "version": 3
   },
   "file_extension": ".py",
   "mimetype": "text/x-python",
   "name": "python",
   "nbconvert_exporter": "python",
   "pygments_lexer": "ipython3",
   "version": "3.9.13"
  }
 },
 "nbformat": 4,
 "nbformat_minor": 5
}
